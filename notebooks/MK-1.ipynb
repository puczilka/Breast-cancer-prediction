{
 "cells": [
  {
   "cell_type": "markdown",
   "metadata": {},
   "source": [
    "## Breast Cancer Prediction\n",
    "Breast cancer is one of the most common types of cancer in the UK. According to NHS, about 1 in 8 women are diagnosed with breast cancer during their lifetime, and early detection will significantly increase the chance of recovery.\n",
    "​\n",
    "Your client is a medical research company, and you are asked to improve the early detection of breast cancer using machine learning. The goal of the project is to train a machine learning model which predicts whether the cancer is benign or malignant."
   ]
  },
  {
   "cell_type": "markdown",
   "metadata": {},
   "source": [
    "Features are computed from a digitized image of a fine needle aspirate (FNA) of a breast mass. They describe characteristics of the cell nuclei present in the image.\n"
   ]
  },
  {
   "cell_type": "markdown",
   "metadata": {},
   "source": [
    "### Data exploration and visualisation\n",
    "- Import the data and familiarise yourself with it. You might want to understand things like:\n",
    "   - What is the data size?\n",
    "   - How many attributes are there?\n",
    "   - What's the type of each attribute (integer, boolean, string etc)?\n",
    "   - Check missing values, null?\n",
    "   - Any outliers or anomalies? What should you do with it?\n",
    "   "
   ]
  },
  {
   "cell_type": "code",
   "execution_count": 94,
   "metadata": {},
   "outputs": [],
   "source": [
    "import pandas as pd\n",
    "import matplotlib.pyplot as plt\n",
    "import seaborn as sns\n",
    "import numpy as np\n",
    "import sklearn.cluster as clust\n",
    "from scipy.spatial.distance import cdist\n",
    "from statsmodels.stats.outliers_influence import variance_inflation_factor\n",
    "%matplotlib inline\n",
    "import os\n",
    "\n",
    "\n",
    "#### Import core python libraries\n",
    "import pandas as pd\n",
    "import pickle\n",
    "import os\n",
    "import numpy as np\n",
    "from IPython.display import Math\n",
    "from itertools import product\n",
    "\n",
    "#### Import machine learning and stats libraries\n",
    "from sklearn.preprocessing import StandardScaler\n",
    "from sklearn.ensemble import RandomForestClassifier\n",
    "from sklearn.tree import DecisionTreeClassifier\n",
    "from sklearn.linear_model import LogisticRegression\n",
    "from sklearn.svm import SVC\n",
    "from sklearn.naive_bayes import GaussianNB\n",
    "from sklearn.model_selection import train_test_split, GridSearchCV\n",
    "from sklearn.metrics import (classification_report, auc, confusion_matrix, roc_curve, \n",
    "                             accuracy_score, precision_score, make_scorer, precision_recall_fscore_support)\n",
    "\n",
    "\n",
    "import warnings\n",
    "warnings.filterwarnings('ignore')\n",
    "\n",
    "\n",
    "import sys\n",
    "sys.path.append(\"breastcancerprediction/models/\")\n",
    "\n",
    "from functions import *\n",
    "\n",
    "import sys\n",
    "sys.path.append(\"../src/\")\n",
    "from standard_fns import *"
   ]
  },
  {
   "cell_type": "code",
   "execution_count": 2,
   "metadata": {},
   "outputs": [],
   "source": [
    "# Read the data from the 'data' folder\n",
    "df_raw = pd.read_csv(\"../data/raw/data.csv\", sep = \",\")"
   ]
  },
  {
   "cell_type": "code",
   "execution_count": 3,
   "metadata": {},
   "outputs": [
    {
     "data": {
      "text/plain": [
       "(569, 33)"
      ]
     },
     "execution_count": 3,
     "metadata": {},
     "output_type": "execute_result"
    }
   ],
   "source": [
    "df_raw.head(5)\n",
    "df_raw.shape\n",
    "\n"
   ]
  },
  {
   "cell_type": "code",
   "execution_count": 4,
   "metadata": {},
   "outputs": [
    {
     "data": {
      "text/plain": [
       "float64    31\n",
       "int64       1\n",
       "object      1\n",
       "dtype: int64"
      ]
     },
     "execution_count": 4,
     "metadata": {},
     "output_type": "execute_result"
    }
   ],
   "source": [
    "df_raw.get_dtype_counts()"
   ]
  },
  {
   "cell_type": "code",
   "execution_count": 5,
   "metadata": {},
   "outputs": [
    {
     "name": "stdout",
     "output_type": "stream",
     "text": [
      "<class 'pandas.core.frame.DataFrame'>\n",
      "RangeIndex: 569 entries, 0 to 568\n",
      "Data columns (total 33 columns):\n",
      "id                         569 non-null int64\n",
      "diagnosis                  569 non-null object\n",
      "radius_mean                569 non-null float64\n",
      "texture_mean               569 non-null float64\n",
      "perimeter_mean             569 non-null float64\n",
      "area_mean                  569 non-null float64\n",
      "smoothness_mean            569 non-null float64\n",
      "compactness_mean           569 non-null float64\n",
      "concavity_mean             569 non-null float64\n",
      "concave points_mean        569 non-null float64\n",
      "symmetry_mean              569 non-null float64\n",
      "fractal_dimension_mean     569 non-null float64\n",
      "radius_se                  569 non-null float64\n",
      "texture_se                 569 non-null float64\n",
      "perimeter_se               569 non-null float64\n",
      "area_se                    569 non-null float64\n",
      "smoothness_se              569 non-null float64\n",
      "compactness_se             569 non-null float64\n",
      "concavity_se               569 non-null float64\n",
      "concave points_se          569 non-null float64\n",
      "symmetry_se                569 non-null float64\n",
      "fractal_dimension_se       569 non-null float64\n",
      "radius_worst               569 non-null float64\n",
      "texture_worst              569 non-null float64\n",
      "perimeter_worst            569 non-null float64\n",
      "area_worst                 569 non-null float64\n",
      "smoothness_worst           569 non-null float64\n",
      "compactness_worst          569 non-null float64\n",
      "concavity_worst            569 non-null float64\n",
      "concave points_worst       569 non-null float64\n",
      "symmetry_worst             569 non-null float64\n",
      "fractal_dimension_worst    569 non-null float64\n",
      "Unnamed: 32                0 non-null float64\n",
      "dtypes: float64(31), int64(1), object(1)\n",
      "memory usage: 146.8+ KB\n"
     ]
    }
   ],
   "source": [
    "df_raw.info()\n",
    "#ID coded as int and diagnosis coded as object\n",
    "#The raw dataset has 569 rows and 33 columns"
   ]
  },
  {
   "cell_type": "markdown",
   "metadata": {},
   "source": [
    "Dropping empty column Unnamed: 32"
   ]
  },
  {
   "cell_type": "code",
   "execution_count": 6,
   "metadata": {},
   "outputs": [],
   "source": [
    "df = df_raw.drop(['Unnamed: 32','id'], axis =1)"
   ]
  },
  {
   "cell_type": "code",
   "execution_count": 7,
   "metadata": {},
   "outputs": [
    {
     "data": {
      "text/html": [
       "<div>\n",
       "<style scoped>\n",
       "    .dataframe tbody tr th:only-of-type {\n",
       "        vertical-align: middle;\n",
       "    }\n",
       "\n",
       "    .dataframe tbody tr th {\n",
       "        vertical-align: top;\n",
       "    }\n",
       "\n",
       "    .dataframe thead th {\n",
       "        text-align: right;\n",
       "    }\n",
       "</style>\n",
       "<table border=\"1\" class=\"dataframe\">\n",
       "  <thead>\n",
       "    <tr style=\"text-align: right;\">\n",
       "      <th></th>\n",
       "      <th>radius_mean</th>\n",
       "      <th>texture_mean</th>\n",
       "      <th>perimeter_mean</th>\n",
       "      <th>area_mean</th>\n",
       "      <th>smoothness_mean</th>\n",
       "      <th>compactness_mean</th>\n",
       "      <th>concavity_mean</th>\n",
       "      <th>concave points_mean</th>\n",
       "      <th>symmetry_mean</th>\n",
       "      <th>fractal_dimension_mean</th>\n",
       "      <th>...</th>\n",
       "      <th>radius_worst</th>\n",
       "      <th>texture_worst</th>\n",
       "      <th>perimeter_worst</th>\n",
       "      <th>area_worst</th>\n",
       "      <th>smoothness_worst</th>\n",
       "      <th>compactness_worst</th>\n",
       "      <th>concavity_worst</th>\n",
       "      <th>concave points_worst</th>\n",
       "      <th>symmetry_worst</th>\n",
       "      <th>fractal_dimension_worst</th>\n",
       "    </tr>\n",
       "  </thead>\n",
       "  <tbody>\n",
       "    <tr>\n",
       "      <td>count</td>\n",
       "      <td>569.000000</td>\n",
       "      <td>569.000000</td>\n",
       "      <td>569.000000</td>\n",
       "      <td>569.000000</td>\n",
       "      <td>569.000000</td>\n",
       "      <td>569.000000</td>\n",
       "      <td>569.000000</td>\n",
       "      <td>569.000000</td>\n",
       "      <td>569.000000</td>\n",
       "      <td>569.000000</td>\n",
       "      <td>...</td>\n",
       "      <td>569.000000</td>\n",
       "      <td>569.000000</td>\n",
       "      <td>569.000000</td>\n",
       "      <td>569.000000</td>\n",
       "      <td>569.000000</td>\n",
       "      <td>569.000000</td>\n",
       "      <td>569.000000</td>\n",
       "      <td>569.000000</td>\n",
       "      <td>569.000000</td>\n",
       "      <td>569.000000</td>\n",
       "    </tr>\n",
       "    <tr>\n",
       "      <td>mean</td>\n",
       "      <td>14.127292</td>\n",
       "      <td>19.289649</td>\n",
       "      <td>91.969033</td>\n",
       "      <td>654.889104</td>\n",
       "      <td>0.096360</td>\n",
       "      <td>0.104341</td>\n",
       "      <td>0.088799</td>\n",
       "      <td>0.048919</td>\n",
       "      <td>0.181162</td>\n",
       "      <td>0.062798</td>\n",
       "      <td>...</td>\n",
       "      <td>16.269190</td>\n",
       "      <td>25.677223</td>\n",
       "      <td>107.261213</td>\n",
       "      <td>880.583128</td>\n",
       "      <td>0.132369</td>\n",
       "      <td>0.254265</td>\n",
       "      <td>0.272188</td>\n",
       "      <td>0.114606</td>\n",
       "      <td>0.290076</td>\n",
       "      <td>0.083946</td>\n",
       "    </tr>\n",
       "    <tr>\n",
       "      <td>std</td>\n",
       "      <td>3.524049</td>\n",
       "      <td>4.301036</td>\n",
       "      <td>24.298981</td>\n",
       "      <td>351.914129</td>\n",
       "      <td>0.014064</td>\n",
       "      <td>0.052813</td>\n",
       "      <td>0.079720</td>\n",
       "      <td>0.038803</td>\n",
       "      <td>0.027414</td>\n",
       "      <td>0.007060</td>\n",
       "      <td>...</td>\n",
       "      <td>4.833242</td>\n",
       "      <td>6.146258</td>\n",
       "      <td>33.602542</td>\n",
       "      <td>569.356993</td>\n",
       "      <td>0.022832</td>\n",
       "      <td>0.157336</td>\n",
       "      <td>0.208624</td>\n",
       "      <td>0.065732</td>\n",
       "      <td>0.061867</td>\n",
       "      <td>0.018061</td>\n",
       "    </tr>\n",
       "    <tr>\n",
       "      <td>min</td>\n",
       "      <td>6.981000</td>\n",
       "      <td>9.710000</td>\n",
       "      <td>43.790000</td>\n",
       "      <td>143.500000</td>\n",
       "      <td>0.052630</td>\n",
       "      <td>0.019380</td>\n",
       "      <td>0.000000</td>\n",
       "      <td>0.000000</td>\n",
       "      <td>0.106000</td>\n",
       "      <td>0.049960</td>\n",
       "      <td>...</td>\n",
       "      <td>7.930000</td>\n",
       "      <td>12.020000</td>\n",
       "      <td>50.410000</td>\n",
       "      <td>185.200000</td>\n",
       "      <td>0.071170</td>\n",
       "      <td>0.027290</td>\n",
       "      <td>0.000000</td>\n",
       "      <td>0.000000</td>\n",
       "      <td>0.156500</td>\n",
       "      <td>0.055040</td>\n",
       "    </tr>\n",
       "    <tr>\n",
       "      <td>25%</td>\n",
       "      <td>11.700000</td>\n",
       "      <td>16.170000</td>\n",
       "      <td>75.170000</td>\n",
       "      <td>420.300000</td>\n",
       "      <td>0.086370</td>\n",
       "      <td>0.064920</td>\n",
       "      <td>0.029560</td>\n",
       "      <td>0.020310</td>\n",
       "      <td>0.161900</td>\n",
       "      <td>0.057700</td>\n",
       "      <td>...</td>\n",
       "      <td>13.010000</td>\n",
       "      <td>21.080000</td>\n",
       "      <td>84.110000</td>\n",
       "      <td>515.300000</td>\n",
       "      <td>0.116600</td>\n",
       "      <td>0.147200</td>\n",
       "      <td>0.114500</td>\n",
       "      <td>0.064930</td>\n",
       "      <td>0.250400</td>\n",
       "      <td>0.071460</td>\n",
       "    </tr>\n",
       "    <tr>\n",
       "      <td>50%</td>\n",
       "      <td>13.370000</td>\n",
       "      <td>18.840000</td>\n",
       "      <td>86.240000</td>\n",
       "      <td>551.100000</td>\n",
       "      <td>0.095870</td>\n",
       "      <td>0.092630</td>\n",
       "      <td>0.061540</td>\n",
       "      <td>0.033500</td>\n",
       "      <td>0.179200</td>\n",
       "      <td>0.061540</td>\n",
       "      <td>...</td>\n",
       "      <td>14.970000</td>\n",
       "      <td>25.410000</td>\n",
       "      <td>97.660000</td>\n",
       "      <td>686.500000</td>\n",
       "      <td>0.131300</td>\n",
       "      <td>0.211900</td>\n",
       "      <td>0.226700</td>\n",
       "      <td>0.099930</td>\n",
       "      <td>0.282200</td>\n",
       "      <td>0.080040</td>\n",
       "    </tr>\n",
       "    <tr>\n",
       "      <td>75%</td>\n",
       "      <td>15.780000</td>\n",
       "      <td>21.800000</td>\n",
       "      <td>104.100000</td>\n",
       "      <td>782.700000</td>\n",
       "      <td>0.105300</td>\n",
       "      <td>0.130400</td>\n",
       "      <td>0.130700</td>\n",
       "      <td>0.074000</td>\n",
       "      <td>0.195700</td>\n",
       "      <td>0.066120</td>\n",
       "      <td>...</td>\n",
       "      <td>18.790000</td>\n",
       "      <td>29.720000</td>\n",
       "      <td>125.400000</td>\n",
       "      <td>1084.000000</td>\n",
       "      <td>0.146000</td>\n",
       "      <td>0.339100</td>\n",
       "      <td>0.382900</td>\n",
       "      <td>0.161400</td>\n",
       "      <td>0.317900</td>\n",
       "      <td>0.092080</td>\n",
       "    </tr>\n",
       "    <tr>\n",
       "      <td>max</td>\n",
       "      <td>28.110000</td>\n",
       "      <td>39.280000</td>\n",
       "      <td>188.500000</td>\n",
       "      <td>2501.000000</td>\n",
       "      <td>0.163400</td>\n",
       "      <td>0.345400</td>\n",
       "      <td>0.426800</td>\n",
       "      <td>0.201200</td>\n",
       "      <td>0.304000</td>\n",
       "      <td>0.097440</td>\n",
       "      <td>...</td>\n",
       "      <td>36.040000</td>\n",
       "      <td>49.540000</td>\n",
       "      <td>251.200000</td>\n",
       "      <td>4254.000000</td>\n",
       "      <td>0.222600</td>\n",
       "      <td>1.058000</td>\n",
       "      <td>1.252000</td>\n",
       "      <td>0.291000</td>\n",
       "      <td>0.663800</td>\n",
       "      <td>0.207500</td>\n",
       "    </tr>\n",
       "  </tbody>\n",
       "</table>\n",
       "<p>8 rows × 30 columns</p>\n",
       "</div>"
      ],
      "text/plain": [
       "       radius_mean  texture_mean  perimeter_mean    area_mean  \\\n",
       "count   569.000000    569.000000      569.000000   569.000000   \n",
       "mean     14.127292     19.289649       91.969033   654.889104   \n",
       "std       3.524049      4.301036       24.298981   351.914129   \n",
       "min       6.981000      9.710000       43.790000   143.500000   \n",
       "25%      11.700000     16.170000       75.170000   420.300000   \n",
       "50%      13.370000     18.840000       86.240000   551.100000   \n",
       "75%      15.780000     21.800000      104.100000   782.700000   \n",
       "max      28.110000     39.280000      188.500000  2501.000000   \n",
       "\n",
       "       smoothness_mean  compactness_mean  concavity_mean  concave points_mean  \\\n",
       "count       569.000000        569.000000      569.000000           569.000000   \n",
       "mean          0.096360          0.104341        0.088799             0.048919   \n",
       "std           0.014064          0.052813        0.079720             0.038803   \n",
       "min           0.052630          0.019380        0.000000             0.000000   \n",
       "25%           0.086370          0.064920        0.029560             0.020310   \n",
       "50%           0.095870          0.092630        0.061540             0.033500   \n",
       "75%           0.105300          0.130400        0.130700             0.074000   \n",
       "max           0.163400          0.345400        0.426800             0.201200   \n",
       "\n",
       "       symmetry_mean  fractal_dimension_mean  ...  radius_worst  \\\n",
       "count     569.000000              569.000000  ...    569.000000   \n",
       "mean        0.181162                0.062798  ...     16.269190   \n",
       "std         0.027414                0.007060  ...      4.833242   \n",
       "min         0.106000                0.049960  ...      7.930000   \n",
       "25%         0.161900                0.057700  ...     13.010000   \n",
       "50%         0.179200                0.061540  ...     14.970000   \n",
       "75%         0.195700                0.066120  ...     18.790000   \n",
       "max         0.304000                0.097440  ...     36.040000   \n",
       "\n",
       "       texture_worst  perimeter_worst   area_worst  smoothness_worst  \\\n",
       "count     569.000000       569.000000   569.000000        569.000000   \n",
       "mean       25.677223       107.261213   880.583128          0.132369   \n",
       "std         6.146258        33.602542   569.356993          0.022832   \n",
       "min        12.020000        50.410000   185.200000          0.071170   \n",
       "25%        21.080000        84.110000   515.300000          0.116600   \n",
       "50%        25.410000        97.660000   686.500000          0.131300   \n",
       "75%        29.720000       125.400000  1084.000000          0.146000   \n",
       "max        49.540000       251.200000  4254.000000          0.222600   \n",
       "\n",
       "       compactness_worst  concavity_worst  concave points_worst  \\\n",
       "count         569.000000       569.000000            569.000000   \n",
       "mean            0.254265         0.272188              0.114606   \n",
       "std             0.157336         0.208624              0.065732   \n",
       "min             0.027290         0.000000              0.000000   \n",
       "25%             0.147200         0.114500              0.064930   \n",
       "50%             0.211900         0.226700              0.099930   \n",
       "75%             0.339100         0.382900              0.161400   \n",
       "max             1.058000         1.252000              0.291000   \n",
       "\n",
       "       symmetry_worst  fractal_dimension_worst  \n",
       "count      569.000000               569.000000  \n",
       "mean         0.290076                 0.083946  \n",
       "std          0.061867                 0.018061  \n",
       "min          0.156500                 0.055040  \n",
       "25%          0.250400                 0.071460  \n",
       "50%          0.282200                 0.080040  \n",
       "75%          0.317900                 0.092080  \n",
       "max          0.663800                 0.207500  \n",
       "\n",
       "[8 rows x 30 columns]"
      ]
     },
     "execution_count": 7,
     "metadata": {},
     "output_type": "execute_result"
    }
   ],
   "source": [
    "df.describe()"
   ]
  },
  {
   "cell_type": "markdown",
   "metadata": {},
   "source": [
    "Area mean looks very high compared to other values"
   ]
  },
  {
   "cell_type": "code",
   "execution_count": 8,
   "metadata": {},
   "outputs": [
    {
     "data": {
      "text/plain": [
       "<matplotlib.axes._subplots.AxesSubplot at 0x2875fb92b88>"
      ]
     },
     "execution_count": 8,
     "metadata": {},
     "output_type": "execute_result"
    },
    {
     "data": {
      "image/png": "[encoded data removed]",
      "text/plain": [
       "<Figure size 432x288 with 1 Axes>"
      ]
     },
     "metadata": {
      "needs_background": "light"
     },
     "output_type": "display_data"
    }
   ],
   "source": [
    "df[\"area_mean\"].hist()"
   ]
  },
  {
   "cell_type": "code",
   "execution_count": 9,
   "metadata": {},
   "outputs": [
    {
     "name": "stdout",
     "output_type": "stream",
     "text": [
      "diagnosis                  0\n",
      "radius_mean                0\n",
      "texture_mean               0\n",
      "perimeter_mean             0\n",
      "area_mean                  0\n",
      "smoothness_mean            0\n",
      "compactness_mean           0\n",
      "concavity_mean             0\n",
      "concave points_mean        0\n",
      "symmetry_mean              0\n",
      "fractal_dimension_mean     0\n",
      "radius_se                  0\n",
      "texture_se                 0\n",
      "perimeter_se               0\n",
      "area_se                    0\n",
      "smoothness_se              0\n",
      "compactness_se             0\n",
      "concavity_se               0\n",
      "concave points_se          0\n",
      "symmetry_se                0\n",
      "fractal_dimension_se       0\n",
      "radius_worst               0\n",
      "texture_worst              0\n",
      "perimeter_worst            0\n",
      "area_worst                 0\n",
      "smoothness_worst           0\n",
      "compactness_worst          0\n",
      "concavity_worst            0\n",
      "concave points_worst       0\n",
      "symmetry_worst             0\n",
      "fractal_dimension_worst    0\n",
      "dtype: int64\n"
     ]
    }
   ],
   "source": [
    "#Checking for missing values\n",
    "\n",
    "print(df.isnull().sum())"
   ]
  },
  {
   "cell_type": "markdown",
   "metadata": {},
   "source": [
    "   \n",
    "​\n",
    "- Visualise some of the features to get more insight. You might want to find out things like:\n",
    "   - How many patients are diagnosed as malignant or benign?\n",
    "   - How about the distribution of features you are interested in?\n",
    "   - Correlation between attributes?\n",
    "​\n",
    "- When visualising the data, think of which type of visualisation is the most suitable for your analysis, and why.\n",
    "​\n"
   ]
  },
  {
   "cell_type": "markdown",
   "metadata": {},
   "source": [
    "Inspecting class distribution of diagnosis variable"
   ]
  },
  {
   "cell_type": "code",
   "execution_count": 10,
   "metadata": {},
   "outputs": [
    {
     "data": {
      "text/plain": [
       "B    0.627417\n",
       "M    0.372583\n",
       "Name: diagnosis, dtype: float64"
      ]
     },
     "execution_count": 10,
     "metadata": {},
     "output_type": "execute_result"
    }
   ],
   "source": [
    "df['diagnosis'].value_counts()/len(df['diagnosis'])"
   ]
  },
  {
   "cell_type": "code",
   "execution_count": 11,
   "metadata": {},
   "outputs": [],
   "source": [
    "# Scale numeric variables\n",
    "numeric_cols = df.select_dtypes(include=[np.number]).columns.tolist()\n",
    "scaler = StandardScaler()\n",
    "df.loc[:, numeric_cols] = scaler.fit_transform(df.loc[:, numeric_cols])"
   ]
  },
  {
   "cell_type": "code",
   "execution_count": 12,
   "metadata": {},
   "outputs": [],
   "source": [
    "#Recoding diagnosis to 1 for malignant and 0 for benign\n",
    "df['diagnosis'] = df['diagnosis'].replace({'M': 1, 'B': 0})"
   ]
  },
  {
   "cell_type": "markdown",
   "metadata": {},
   "source": [
    "Recoding target variable to boolean"
   ]
  },
  {
   "cell_type": "code",
   "execution_count": 13,
   "metadata": {},
   "outputs": [
    {
     "data": {
      "image/png": "[encoded data removed]",
      "text/plain": [
       "<Figure size 432x288 with 1 Axes>"
      ]
     },
     "metadata": {
      "needs_background": "light"
     },
     "output_type": "display_data"
    }
   ],
   "source": [
    "df['diagnosis'].value_counts().plot(kind='bar')\n",
    "\n",
    "target = df['diagnosis']"
   ]
  },
  {
   "cell_type": "code",
   "execution_count": 14,
   "metadata": {},
   "outputs": [],
   "source": [
    "df1 = df.drop(['diagnosis'], axis =1)"
   ]
  },
  {
   "cell_type": "code",
   "execution_count": 15,
   "metadata": {},
   "outputs": [
    {
     "name": "stdout",
     "output_type": "stream",
     "text": [
      "                      index      corr\n",
      "27     concave points_worst  0.793566\n",
      "22          perimeter_worst  0.782914\n",
      "7       concave points_mean  0.776614\n",
      "20             radius_worst  0.776454\n",
      "2            perimeter_mean  0.742636\n",
      "23               area_worst  0.733825\n",
      "0               radius_mean  0.730029\n",
      "3                 area_mean  0.708984\n",
      "6            concavity_mean  0.696360\n",
      "26          concavity_worst  0.659610\n",
      "5          compactness_mean  0.596534\n",
      "25        compactness_worst  0.590998\n",
      "10                radius_se  0.567134\n",
      "12             perimeter_se  0.556141\n",
      "13                  area_se  0.548236\n",
      "21            texture_worst  0.456903\n",
      "24         smoothness_worst  0.421465\n",
      "28           symmetry_worst  0.416294\n",
      "1              texture_mean  0.415185\n",
      "17        concave points_se  0.408042\n",
      "4           smoothness_mean  0.358560\n",
      "8             symmetry_mean  0.330499\n",
      "29  fractal_dimension_worst  0.323872\n",
      "15           compactness_se  0.292999\n",
      "16             concavity_se  0.253730\n"
     ]
    }
   ],
   "source": [
    "selected_cols = get_PBS_corr_from_cols(df, 'diagnosis',numeric_cols, thresh = 0.1)\n",
    "print(selected_cols)"
   ]
  },
  {
   "cell_type": "code",
   "execution_count": 16,
   "metadata": {},
   "outputs": [
    {
     "data": {
      "text/plain": [
       "<bound method NDFrame.head of      concave points_worst  perimeter_worst  concave points_mean  radius_worst  \\\n",
       "0                2.296076         2.303601             2.532475      1.886690   \n",
       "1                1.087084         1.535126             0.548144      1.805927   \n",
       "2                1.955000         1.347475             2.037231      1.511870   \n",
       "3                2.175786        -0.249939             1.451707     -0.281464   \n",
       "4                0.729259         1.338539             1.428493      1.298575   \n",
       "..                    ...              ...                  ...           ...   \n",
       "564              1.629151         1.752563             2.320965      1.901185   \n",
       "565              0.733827         1.421940             1.263669      1.536720   \n",
       "566              0.414069         0.579001             0.105777      0.561361   \n",
       "567              2.289985         2.303601             2.658866      1.961239   \n",
       "568             -1.745063        -1.432735            -1.261820     -1.410893   \n",
       "\n",
       "     perimeter_mean  area_worst  radius_mean  area_mean  concavity_mean  \\\n",
       "0          1.269934    2.001237     1.097064   0.984375        2.652874   \n",
       "1          1.685955    1.890489     1.829821   1.908708       -0.023846   \n",
       "2          1.566503    1.456285     1.579888   1.558884        1.363478   \n",
       "3         -0.592687   -0.550021    -0.768909  -0.764464        1.915897   \n",
       "4          1.776573    1.220724     1.750297   1.826229        1.371011   \n",
       "..              ...         ...          ...        ...             ...   \n",
       "564        2.060786    2.015301     2.110995   2.343856        1.947285   \n",
       "565        1.615931    1.494959     1.704854   1.723842        0.693043   \n",
       "566        0.672676    0.427906     0.702284   0.577953        0.046588   \n",
       "567        1.982524    1.653171     1.838341   1.735218        3.296944   \n",
       "568       -1.814389   -1.075813    -1.808401  -1.347789       -1.114873   \n",
       "\n",
       "     concavity_worst  ...  texture_worst  smoothness_worst  symmetry_worst  \\\n",
       "0           2.109526  ...      -1.359293          1.307686        2.750622   \n",
       "1          -0.146749  ...      -0.369203         -0.375612       -0.243890   \n",
       "2           0.854974  ...      -0.023974          0.527407        1.152255   \n",
       "3           1.989588  ...       0.133984          3.394275        6.046041   \n",
       "4           0.613179  ...      -1.466770          0.220556       -0.868353   \n",
       "..               ...  ...            ...               ...             ...   \n",
       "564         0.664512  ...       0.117700          0.378365       -1.360158   \n",
       "565         0.236573  ...       2.047399         -0.691230       -0.531855   \n",
       "566         0.326767  ...       1.374854         -0.809587       -1.104549   \n",
       "567         3.197605  ...       2.237926          1.430427        1.919083   \n",
       "568        -1.305831  ...       0.764190         -1.859019       -0.048138   \n",
       "\n",
       "     texture_mean  concave points_se  smoothness_mean  symmetry_mean  \\\n",
       "0       -2.073335           0.660820         1.568466       2.217515   \n",
       "1       -0.353632           0.260162        -0.826962       0.001392   \n",
       "2        0.456187           1.424827         0.942210       0.939685   \n",
       "3        0.253732           1.115007         3.283553       2.867383   \n",
       "4       -1.151816           1.144205         0.280372      -0.009560   \n",
       "..            ...                ...              ...            ...   \n",
       "564      0.721473           2.067178         1.041842      -0.312589   \n",
       "565      2.085134           0.808431         0.102458      -0.217664   \n",
       "566      2.045574           0.612157        -0.840484      -0.809117   \n",
       "567      2.336457           0.785721         1.525767       2.137194   \n",
       "568      1.221792          -1.913447        -3.112085      -0.820070   \n",
       "\n",
       "     fractal_dimension_worst  compactness_se  concavity_se  \n",
       "0                   1.937015        1.316862      0.724026  \n",
       "1                   0.281190       -0.692926     -0.440780  \n",
       "2                   0.201391        0.814974      0.213076  \n",
       "3                   4.935010        2.744280      0.819518  \n",
       "4                  -0.397100       -0.048520      0.828471  \n",
       "..                       ...             ...           ...  \n",
       "564                -0.709091        0.191805      0.666001  \n",
       "565                -0.973978       -0.069758      0.252202  \n",
       "566                -0.318409        0.661277      0.510827  \n",
       "567                 2.219635        2.017716      1.302285  \n",
       "568                -0.751207       -1.163516     -1.057501  \n",
       "\n",
       "[569 rows x 25 columns]>"
      ]
     },
     "execution_count": 16,
     "metadata": {},
     "output_type": "execute_result"
    }
   ],
   "source": [
    "df_new = df[selected_cols['index'].tolist()]\n",
    "df_new.head"
   ]
  },
  {
   "cell_type": "markdown",
   "metadata": {},
   "source": [
    "Correlation"
   ]
  },
  {
   "cell_type": "markdown",
   "metadata": {},
   "source": [
    "SOme variables are highly correlated and so we will calculate VIF (Variance Inflation Factor) to systematically remove highly correlated variables and reduce multicollinearity"
   ]
  },
  {
   "cell_type": "code",
   "execution_count": 17,
   "metadata": {},
   "outputs": [
    {
     "data": {
      "text/plain": [
       "array([[  1.        ,   5.44431317,  11.13031886,   4.70419663,\n",
       "          4.37140868,   3.95912288,   3.90952114,   3.59733745,\n",
       "          7.21100285,   6.9172491 ,   5.42220614,   5.02715581,\n",
       "          2.13247956,   2.24667216,   2.16528164,   1.56190113,\n",
       "          2.21087749,   2.01016538,   1.41907547,   2.51540437,\n",
       "          2.01228846,   1.75529937,   2.04546724,   1.9350157 ,\n",
       "          1.7872215 ],\n",
       "       [  5.44431317,   1.        ,   6.94073925, 158.92985796,\n",
       "         33.76882402,  44.59923632,  28.6833049 ,  24.46158484,\n",
       "          3.69774508,   2.62016111,   2.44027683,   2.1249816 ,\n",
       "          3.5674    ,   3.58463167,   4.18782629,   1.57504684,\n",
       "          1.31022894,   1.36891184,   1.55772842,   1.65289052,\n",
       "          1.31380602,   1.28068613,   1.161382  ,   1.35229401,\n",
       "          1.29312646],\n",
       "       [ 11.13031886,   6.94073925,   1.        ,   5.89336421,\n",
       "          6.71037542,   5.25291802,   5.63470826,   5.65831267,\n",
       "         12.72119395,   4.03876402,   5.92189178,   3.00709985,\n",
       "          3.31180476,   3.45602059,   3.228916  ,   1.41393061,\n",
       "          1.82732861,   1.60190728,   1.41535615,   2.60168782,\n",
       "          2.24062107,   1.86045608,   1.58393543,   1.96241677,\n",
       "          1.7830622 ],\n",
       "       [  4.70419663, 158.92985796,   5.89336421,   1.        ,\n",
       "         32.76149612,  62.55694425,  32.82883362,  26.84281714,\n",
       "          3.20755863,   2.34727848,   2.15199728,   1.90774175,\n",
       "          3.50957476,   3.30251637,   4.12155605,   1.56230655,\n",
       "          1.27644545,   1.3219281 ,   1.54457556,   1.55793979,\n",
       "          1.27084203,   1.22809049,   1.1031342 ,   1.25724039,\n",
       "          1.22986634],\n",
       "       [  4.37140868,  33.76882402,   6.71037542,  32.76149612,\n",
       "          1.        ,  17.10858366, 466.2616549 ,  74.11142619,\n",
       "          3.5228094 ,   2.29294302,   2.25701135,   1.8374727 ,\n",
       "          3.24427805,   3.25876082,   3.9213025 ,   1.43479922,\n",
       "          1.1772315 ,   1.23322056,   1.49149785,   1.68695772,\n",
       "          1.26147654,   1.22403098,   1.05376136,   1.33465674,\n",
       "          1.29547497],\n",
       "       [  3.95912288,  44.59923632,   5.25291802,  62.55694425,\n",
       "         17.10858366,   1.        ,  16.97287417,  24.51781166,\n",
       "          3.08629812,   2.18976756,   2.03916754,   1.780298  ,\n",
       "          4.02493003,   3.71350975,   5.30245076,   1.52868333,\n",
       "          1.26445483,   1.26445511,   1.52333586,   1.52038339,\n",
       "          1.26058635,   1.2153524 ,   1.08653966,   1.24901847,\n",
       "          1.23206218],\n",
       "       [  3.90952114,  28.6833049 ,   5.63470826,  32.82883362,\n",
       "        466.2616549 ,  16.97287417,   1.        ,  79.09621536,\n",
       "          3.09371051,   2.11376924,   2.02479802,   1.70492177,\n",
       "          3.11614225,   3.06910033,   3.78592363,   1.42249057,\n",
       "          1.13586817,   1.19610548,   1.47881281,   1.60299813,\n",
       "          1.20566351,   1.17335257,   1.00711617,   1.25944581,\n",
       "          1.24100831],\n",
       "       [  3.59733745,  24.46158484,   5.65831267,  26.84281714,\n",
       "         74.11142619,  24.51781166,  79.09621536,   1.        ,\n",
       "          3.18453923,   2.05172784,   1.99402463,   1.64044769,\n",
       "          3.73918758,   3.6580235 ,   5.00214895,   1.40348637,\n",
       "          1.14093117,   1.16763763,   1.47293995,   1.59316921,\n",
       "          1.21510873,   1.17826304,   1.00375162,   1.2699744 ,\n",
       "          1.26208456],\n",
       "       [  7.21100285,   3.69774508,  12.72119395,   3.20755863,\n",
       "          3.5228094 ,   3.08629812,   3.09371051,   3.18453923,\n",
       "          1.        ,   8.62832417,   8.55583277,   4.08109988,\n",
       "          2.71683629,   2.94456087,   2.6138789 ,   1.42832431,\n",
       "          1.81429605,   1.69337723,   1.43352287,   3.15716277,\n",
       "          2.09197917,   2.00267003,   2.06155766,   3.03286557,\n",
       "          3.23907839],\n",
       "       [  6.9172491 ,   2.62016111,   4.03876402,   2.34727848,\n",
       "          2.29294302,   2.18976756,   2.11376924,   2.05172784,\n",
       "          8.62832417,   1.        ,   5.4429248 ,   9.28168129,\n",
       "          1.61442556,   1.7208707 ,   1.62628105,   1.58319435,\n",
       "          2.07694367,   2.13912771,   1.43066679,   2.22021108,\n",
       "          1.76967883,   1.765914  ,   3.18990379,   2.77120922,\n",
       "          2.96352611],\n",
       "       [  5.42220614,   2.44027683,   5.92189178,   2.15199728,\n",
       "          2.25701135,   2.03916754,   2.02479802,   1.99402463,\n",
       "          8.55583277,   5.4429248 ,   1.        ,   7.4520668 ,\n",
       "          1.9899446 ,   2.21682924,   1.83706299,   1.33002217,\n",
       "          2.30171405,   2.04174732,   1.31010469,   2.79534068,\n",
       "          2.93361134,   2.51661626,   3.19879544,   3.82733791,\n",
       "          2.32838017],\n",
       "       [  5.02715581,   2.1249816 ,   3.00709985,   1.90774175,\n",
       "          1.8374727 ,   1.780298  ,   1.70492177,   1.64044769,\n",
       "          4.08109988,   9.28168129,   7.4520668 ,   1.        ,\n",
       "          1.40272751,   1.51957081,   1.39519933,   1.56453472,\n",
       "          2.31581467,   2.59363342,   1.38471473,   1.82778058,\n",
       "          1.8956212 ,   1.89825365,   5.27578803,   3.11313462,\n",
       "          1.94121157],\n",
       "       [  2.13247956,   3.5674    ,   3.31180476,   3.50957476,\n",
       "          3.24427805,   4.02493003,   3.11614225,   3.73918758,\n",
       "          2.71683629,   1.61442556,   1.9899446 ,   1.40272751,\n",
       "          1.        ,  36.75616145,  20.75985733,   1.24192525,\n",
       "          1.16539054,   1.10441447,   1.38096498,   2.05484987,\n",
       "          1.43157179,   1.43550134,   1.05214364,   1.55295075,\n",
       "          1.49780767],\n",
       "       [  2.24667216,   3.58463167,   3.45602059,   3.30251637,\n",
       "          3.25876082,   3.71350975,   3.06910033,   3.6580235 ,\n",
       "          2.94456087,   1.7208707 ,   2.21682924,   1.51957081,\n",
       "         36.75616145,   1.        ,  16.03988335,   1.25057973,\n",
       "          1.14949715,   1.12350769,   1.39212387,   2.25359265,\n",
       "          1.42064006,   1.4574981 ,   1.09341309,   1.71327449,\n",
       "          1.56858213],\n",
       "       [  2.16528164,   4.18782629,   3.228916  ,   4.12155605,\n",
       "          3.9213025 ,   5.30245076,   3.78592363,   5.00214895,\n",
       "          2.6138789 ,   1.62628105,   1.83706299,   1.39519933,\n",
       "         20.75985733,  16.03988335,   1.        ,   1.24454988,\n",
       "          1.14336601,   1.08006091,   1.35106833,   1.71153621,\n",
       "          1.32723237,   1.28861034,   1.01785241,   1.39828861,\n",
       "          1.37154405],\n",
       "       [  1.56190113,   1.57504684,   1.41393061,   1.56230655,\n",
       "          1.43479922,   1.52868333,   1.42249057,   1.40348637,\n",
       "          1.42832431,   1.58319435,   1.33002217,   1.56453472,\n",
       "          1.24192525,   1.25057973,   1.24454988,   1.        ,\n",
       "          1.29103792,   1.30382765,  11.36939714,   1.09497988,\n",
       "          1.03742167,   1.09968742,   1.28061047,   1.16686466,\n",
       "          1.1114087 ],\n",
       "       [  2.21087749,   1.31022894,   1.82732861,   1.27644545,\n",
       "          1.1772315 ,   1.26445483,   1.13586817,   1.14093117,\n",
       "          1.81429605,   2.07694367,   2.30171405,   2.31581467,\n",
       "          1.16539054,   1.14949715,   1.14336601,   1.29103792,\n",
       "          1.        ,   1.97565335,   1.08401479,   1.27445455,\n",
       "          5.13674518,   1.74421148,   2.61522821,   1.29432117,\n",
       "          1.2026188 ],\n",
       "       [  2.01016538,   1.36891184,   1.60190728,   1.3219281 ,\n",
       "          1.23322056,   1.26445511,   1.19610548,   1.16763763,\n",
       "          1.69337723,   2.13912771,   2.04174732,   2.59363342,\n",
       "          1.10441447,   1.12350769,   1.08006091,   1.30382765,\n",
       "          1.97565335,   1.        ,   1.11732831,   1.16701866,\n",
       "          1.65100818,   3.33139887,   2.16379123,   1.38480838,\n",
       "          1.246553  ],\n",
       "       [  1.41907547,   1.55772842,   1.41535615,   1.54457556,\n",
       "          1.49149785,   1.52333586,   1.47881281,   1.47293995,\n",
       "          1.43352287,   1.43066679,   1.31010469,   1.38471473,\n",
       "          1.38096498,   1.39212387,   1.35106833,  11.36939714,\n",
       "          1.08401479,   1.11732831,   1.        ,   1.19595913,\n",
       "          0.97714601,   1.07689108,   1.13533841,   1.23758488,\n",
       "          1.16726032],\n",
       "       [  2.51540437,   1.65289052,   2.60168782,   1.55793979,\n",
       "          1.68695772,   1.52038339,   1.60299813,   1.59316921,\n",
       "          3.15716277,   2.22021108,   2.79534068,   1.82778058,\n",
       "          2.05484987,   2.25359265,   1.71153621,   1.09497988,\n",
       "          1.27445455,   1.16701866,   1.19595913,   1.        ,\n",
       "          1.61466292,   1.6482553 ,   1.45065149,   3.90751182,\n",
       "          4.38219766],\n",
       "       [  2.01228846,   1.31380602,   2.24062107,   1.27084203,\n",
       "          1.26147654,   1.26058635,   1.20566351,   1.21510873,\n",
       "          2.09197917,   1.76967883,   2.93361134,   1.8956212 ,\n",
       "          1.43157179,   1.42064006,   1.32723237,   1.03742167,\n",
       "          5.13674518,   1.65100818,   0.97714601,   1.61466292,\n",
       "          1.        ,   2.26129124,   1.99726921,   1.46830652,\n",
       "          1.3304873 ],\n",
       "       [  1.75529937,   1.28068613,   1.86045608,   1.22809049,\n",
       "          1.22403098,   1.2153524 ,   1.17335257,   1.17826304,\n",
       "          2.00267003,   1.765914  ,   2.51661626,   1.89825365,\n",
       "          1.43550134,   1.4574981 ,   1.28861034,   1.09968742,\n",
       "          1.74421148,   3.33139887,   1.07689108,   1.6482553 ,\n",
       "          2.26129124,   1.        ,   1.78066958,   1.72908415,\n",
       "          1.52120643],\n",
       "       [  2.04546724,   1.161382  ,   1.58393543,   1.1031342 ,\n",
       "          1.05376136,   1.08653966,   1.00711617,   1.00375162,\n",
       "          2.06155766,   3.18990379,   3.19879544,   5.27578803,\n",
       "          1.05214364,   1.09341309,   1.01785241,   1.28061047,\n",
       "          2.61522821,   2.16379123,   1.13533841,   1.45065149,\n",
       "          1.99726921,   1.78066958,   1.        ,   2.44482496,\n",
       "          1.78357803],\n",
       "       [  1.9350157 ,   1.35229401,   1.96241677,   1.25724039,\n",
       "          1.33465674,   1.24901847,   1.25944581,   1.2699744 ,\n",
       "          3.03286557,   2.77120922,   3.82733791,   3.11313462,\n",
       "          1.55295075,   1.71327449,   1.39828861,   1.16686466,\n",
       "          1.29432117,   1.38480838,   1.23758488,   3.90751182,\n",
       "          1.46830652,   1.72908415,   2.44482496,   1.        ,\n",
       "          5.03191094],\n",
       "       [  1.7872215 ,   1.29312646,   1.7830622 ,   1.22986634,\n",
       "          1.29547497,   1.23206218,   1.24100831,   1.26208456,\n",
       "          3.23907839,   2.96352611,   2.32838017,   1.94121157,\n",
       "          1.49780767,   1.56858213,   1.37154405,   1.1114087 ,\n",
       "          1.2026188 ,   1.246553  ,   1.16726032,   4.38219766,\n",
       "          1.3304873 ,   1.52120643,   1.78357803,   5.03191094,\n",
       "          1.        ]])"
      ]
     },
     "execution_count": 17,
     "metadata": {},
     "output_type": "execute_result"
    }
   ],
   "source": [
    "\n",
    "\n",
    "#import itertools\n",
    "#cols = np.asarray(df_ex_diag.columns)\n",
    "#x = np.asarray(list(itertools.combinations(cols,2)))\n",
    "\n",
    "get_VIF(df_new)"
   ]
  },
  {
   "cell_type": "code",
   "execution_count": 18,
   "metadata": {},
   "outputs": [],
   "source": [
    "final_df = drop_multicollinear_features(5,df_new)\n"
   ]
  },
  {
   "cell_type": "markdown",
   "metadata": {},
   "source": [
    "In order to select independent variables predictive of the diagnosis status we calculate variance inflation factor between each pair of variables and drop one that is highly correlated. The calculate_vif() function returns the names of predictors with VIF < 5.\n",
    "\n",
    "Final dataset includes texture_mean, smoothness_mean, symmetry_mean, fractal_dimension_mean, texture_se, perimeter_se,\n",
    " smoothness_se, concavity_se, concave points_se, symmetry_se, fractal_dimension_se, symmetry_worst anddiagnosis."
   ]
  },
  {
   "cell_type": "code",
   "execution_count": 19,
   "metadata": {},
   "outputs": [
    {
     "data": {
      "text/plain": [
       "<matplotlib.axes._subplots.AxesSubplot at 0x2875ff97e88>"
      ]
     },
     "execution_count": 19,
     "metadata": {},
     "output_type": "execute_result"
    },
    {
     "data": {
      "image/png": "[encoded data removed]",
      "text/plain": [
       "<Figure size 1080x720 with 2 Axes>"
      ]
     },
     "metadata": {
      "needs_background": "light"
     },
     "output_type": "display_data"
    }
   ],
   "source": [
    "plt.figure(figsize = (15,10))\n",
    "correlation_matrix = final_df.corr()\n",
    "sns.heatmap(data = correlation_matrix, annot = True)"
   ]
  },
  {
   "cell_type": "code",
   "execution_count": 20,
   "metadata": {},
   "outputs": [],
   "source": [
    "#sns.pairplot(final_df)"
   ]
  },
  {
   "cell_type": "markdown",
   "metadata": {},
   "source": [
    " If one of the individual scatterplots in the matrix shows a linear relationship between variables, this is an indication that those variables are exhibiting multicollinearity."
   ]
  },
  {
   "cell_type": "markdown",
   "metadata": {},
   "source": [
    "### Feature and model selection\n",
    "- Is it a classification or regression problem? \n",
    "\n",
    "Classification, predict malignant vs benign tumour\n",
    "\n",
    "- What is the target attribute?\n",
    "\n",
    "1) ID number\n",
    "2) Diagnosis (M = malignant, B = benign)\n",
    "\n",
    "\n",
    "\n",
    "- Do you want to perform any feature engineering?\n",
    "\n",
    "The raw data was generated from 10 original variables.\n",
    "\n",
    "Ten real-valued features are computed for each cell nucleus:\n",
    "\n",
    "\ta) radius (mean of distances from center to points on the perimeter)\n",
    "\tb) texture (standard deviation of gray-scale values)\n",
    "\tc) perimeter\n",
    "\td) area\n",
    "\te) smoothness (local variation in radius lengths)\n",
    "\tf) compactness (perimeter^2 / area - 1.0)\n",
    "\tg) concavity (severity of concave portions of the contour)\n",
    "\th) concave points (number of concave portions of the contour)\n",
    "\ti) symmetry\n",
    "\tj) fractal dimension (\"coastline approximation\" - 1)\n",
    "\n",
    "Several of the papers listed above contain detailed descriptions of\n",
    "how these features are computed.\n",
    "\n",
    "The mean, standard error, and \"worst\" or largest (mean of the three\n",
    "largest values) of these features were computed for each image,\n",
    "resulting in 30 features.  For instance, field 3 is Mean Radius, field\n",
    "13 is Radius SE, field 23 is Worst Radius.\n",
    "\n",
    "\n",
    "- Which features you want to use and why?\n",
    "\n",
    "- Can any of the variables be transformed to make more useful features?\n",
    "- What kind of machine learning algorithm is appropriate, and why?\n",
    "\n",
    "Logistic regression, Decision tree, Random forest, SVM\n",
    "\n",
    "- You should not just explore one algorithm, but look at several algorithms and compare them (you are learning data science now!)\n",
    "- Any tradeoff among the algorithms you choose? Pros and cons?\n",
    "​\n",
    "### Data preprocessing\n",
    "- How do you clean the data?\n",
    "- Do you need to do any imputation?\n",
    "- Do you need to remove outliers?\n",
    "- How do you create a new feature?\n",
    "- How do you split the data into training validation and testing data, and what ratio?\n",
    "​\n",
    "### Model training and evaluation\n",
    "- Which parameters do you need to use?\n",
    "- Which metrics do you want to optimise for?\n",
    "- How do you validate your model?\n",
    "- What worked and what did not work? It's also a good idea to mention what did not work and how you improved it.\n",
    "- How do you test the performance of your model?\n",
    "- How can you boost the performance of your model (e.g. fine tune the hyperparameters of your model or use an ensemble method)?\n",
    "- What is the limitation of your analysis?\n",
    "​\n",
    "### Presentation and communication\n",
    "- What are the most important things you want to present to your client?\n",
    "- How do you structure the flow of your presentation?\n",
    "- How do you translate your analysis into business insight?\n",
    "- What could be done in  further analysis/research?"
   ]
  },
  {
   "cell_type": "code",
   "execution_count": 21,
   "metadata": {},
   "outputs": [],
   "source": [
    "# Splitting the data into training and testing sets - a frequent test set size is 20%-30% of the original dataset\n",
    "\n",
    "target = df['diagnosis']\n",
    "\n",
    "\n",
    "X = final_df.values\n",
    "\n",
    "X_train, X_test, y_train, y_test  = train_test_split(X, target, test_size = 0.2, random_state = 33)"
   ]
  },
  {
   "cell_type": "code",
   "execution_count": 22,
   "metadata": {},
   "outputs": [
    {
     "name": "stdout",
     "output_type": "stream",
     "text": [
      " X_train: (455, 9)\n",
      " X_test: (114, 9)\n",
      " y_train: (455,)\n",
      " y_test: (114,)\n"
     ]
    }
   ],
   "source": [
    "print(\" X_train: {}\\n X_test: {}\\n y_train: {}\\n y_test: {}\".format(X_train.shape, X_test.shape, y_train.shape, y_test.shape))"
   ]
  },
  {
   "cell_type": "code",
   "execution_count": 23,
   "metadata": {},
   "outputs": [],
   "source": [
    "# And a logistic regression, so we can investigate ROC and AUC\n",
    "clf_logit = LogisticRegression()\n",
    "clf_logit.fit(X_train, y_train)\n",
    "pred_clf_logit = clf_logit.predict(X_test)\n",
    "proba_clf_logit = clf_logit.predict_proba(X_test)"
   ]
  },
  {
   "cell_type": "code",
   "execution_count": 24,
   "metadata": {},
   "outputs": [
    {
     "data": {
      "image/png": "[encoded data removed]",
      "text/plain": [
       "<Figure size 1440x1296 with 1 Axes>"
      ]
     },
     "metadata": {
      "needs_background": "light"
     },
     "output_type": "display_data"
    }
   ],
   "source": [
    "# Plot feature importance\n",
    "coefs = pd.DataFrame(clf_logit.coef_.reshape((9, 1)), \n",
    "                         index = final_df.columns.tolist(), columns = ['Importance'])\n",
    "coefs = coefs.sort_values(by='Importance', ascending=True)\n",
    "coefs.plot(kind='barh', figsize=(20,18), color = 'blue')\n",
    "plt.xlabel('Variable coefficients')\n",
    "plt.title('Variable coefficients of the linear regression')\n",
    "plt.show()"
   ]
  },
  {
   "cell_type": "code",
   "execution_count": 25,
   "metadata": {},
   "outputs": [
    {
     "name": "stdout",
     "output_type": "stream",
     "text": [
      "[[5.47904708e-03 9.94520953e-01]\n",
      " [9.85068880e-01 1.49311201e-02]\n",
      " [9.78234144e-01 2.17658555e-02]\n",
      " [8.61855980e-01 1.38144020e-01]\n",
      " [9.72732721e-01 2.72672792e-02]\n",
      " [9.82969974e-01 1.70300262e-02]\n",
      " [9.99886685e-01 1.13315148e-04]\n",
      " [9.99810058e-01 1.89941598e-04]\n",
      " [9.98566618e-01 1.43338181e-03]\n",
      " [9.75700822e-01 2.42991779e-02]\n",
      " [9.92035684e-01 7.96431579e-03]\n",
      " [1.25509194e-02 9.87449081e-01]\n",
      " [9.99276399e-01 7.23600846e-04]\n",
      " [1.09778445e-01 8.90221555e-01]\n",
      " [9.22156839e-01 7.78431612e-02]\n",
      " [9.25070410e-02 9.07492959e-01]\n",
      " [9.09456736e-01 9.05432638e-02]\n",
      " [8.63219497e-01 1.36780503e-01]\n",
      " [9.77412304e-01 2.25876957e-02]\n",
      " [9.67892105e-01 3.21078947e-02]\n",
      " [2.05754273e-01 7.94245727e-01]\n",
      " [9.99951606e-01 4.83940284e-05]\n",
      " [9.94406985e-01 5.59301451e-03]\n",
      " [9.89466764e-01 1.05332361e-02]\n",
      " [2.59885635e-04 9.99740114e-01]\n",
      " [3.74219564e-03 9.96257804e-01]\n",
      " [9.75120134e-02 9.02487987e-01]\n",
      " [9.51252760e-01 4.87472402e-02]\n",
      " [9.42653547e-02 9.05734645e-01]\n",
      " [9.99483460e-01 5.16540274e-04]\n",
      " [8.98503329e-01 1.01496671e-01]\n",
      " [9.97450295e-01 2.54970499e-03]\n",
      " [4.48435364e-01 5.51564636e-01]\n",
      " [6.66299256e-01 3.33700744e-01]\n",
      " [9.99683555e-01 3.16444843e-04]\n",
      " [4.93787151e-02 9.50621285e-01]\n",
      " [2.66694096e-03 9.97333059e-01]\n",
      " [9.79092766e-01 2.09072340e-02]\n",
      " [7.54950766e-01 2.45049234e-01]\n",
      " [9.89242806e-01 1.07571941e-02]\n",
      " [4.10952791e-01 5.89047209e-01]\n",
      " [9.98028413e-01 1.97158700e-03]\n",
      " [9.97832000e-01 2.16800005e-03]\n",
      " [9.89811780e-01 1.01882199e-02]\n",
      " [9.81614379e-01 1.83856210e-02]\n",
      " [7.00837224e-01 2.99162776e-01]\n",
      " [9.39646916e-01 6.03530841e-02]\n",
      " [8.51631994e-01 1.48368006e-01]\n",
      " [9.73358090e-01 2.66419097e-02]\n",
      " [9.95918690e-01 4.08131037e-03]\n",
      " [9.96055543e-01 3.94445715e-03]\n",
      " [3.81828487e-02 9.61817151e-01]\n",
      " [9.96848918e-01 3.15108157e-03]\n",
      " [6.26714421e-01 3.73285579e-01]\n",
      " [9.65291726e-01 3.47082737e-02]\n",
      " [9.79972375e-01 2.00276250e-02]\n",
      " [9.84858330e-01 1.51416700e-02]\n",
      " [1.11339164e-05 9.99988866e-01]\n",
      " [9.98793905e-01 1.20609532e-03]\n",
      " [8.75391490e-01 1.24608510e-01]\n",
      " [1.11242930e-03 9.98887571e-01]\n",
      " [4.47552904e-01 5.52447096e-01]\n",
      " [9.78782735e-01 2.12172652e-02]\n",
      " [1.00618417e-06 9.99998994e-01]\n",
      " [9.66460510e-01 3.35394900e-02]\n",
      " [9.94787915e-01 5.21208459e-03]\n",
      " [9.98643523e-01 1.35647656e-03]\n",
      " [9.61812435e-01 3.81875649e-02]\n",
      " [2.67600310e-01 7.32399690e-01]\n",
      " [4.50743794e-04 9.99549256e-01]\n",
      " [9.93086493e-01 6.91350723e-03]\n",
      " [9.99546376e-01 4.53624038e-04]\n",
      " [9.99592586e-01 4.07413711e-04]\n",
      " [4.81007272e-06 9.99995190e-01]\n",
      " [1.20397677e-02 9.87960232e-01]\n",
      " [4.00460372e-03 9.95995396e-01]\n",
      " [2.98038508e-06 9.99997020e-01]\n",
      " [3.28245586e-02 9.67175441e-01]\n",
      " [5.87591399e-03 9.94124086e-01]\n",
      " [9.98029574e-01 1.97042574e-03]\n",
      " [3.77637538e-02 9.62236246e-01]\n",
      " [9.90117917e-01 9.88208283e-03]\n",
      " [6.70222175e-01 3.29777825e-01]\n",
      " [4.52091637e-02 9.54790836e-01]\n",
      " [9.96170388e-01 3.82961177e-03]\n",
      " [5.38527111e-02 9.46147289e-01]\n",
      " [4.19813093e-01 5.80186907e-01]\n",
      " [1.38894279e-02 9.86110572e-01]\n",
      " [7.81298994e-01 2.18701006e-01]\n",
      " [9.53307725e-01 4.66922746e-02]\n",
      " [9.94174006e-01 5.82599360e-03]\n",
      " [9.43315613e-03 9.90566844e-01]\n",
      " [1.17700708e-02 9.88229929e-01]\n",
      " [9.96553437e-01 3.44656276e-03]\n",
      " [1.20916733e-02 9.87908327e-01]\n",
      " [3.72440706e-01 6.27559294e-01]\n",
      " [9.33077577e-01 6.69224229e-02]\n",
      " [2.53430335e-04 9.99746570e-01]\n",
      " [7.66873777e-01 2.33126223e-01]\n",
      " [9.98485829e-01 1.51417138e-03]\n",
      " [3.52338964e-02 9.64766104e-01]\n",
      " [9.99449208e-01 5.50792280e-04]\n",
      " [8.62305003e-01 1.37694997e-01]\n",
      " [9.99909643e-01 9.03569471e-05]\n",
      " [9.78525738e-01 2.14742616e-02]\n",
      " [7.36657173e-07 9.99999263e-01]\n",
      " [9.92735958e-01 7.26404210e-03]\n",
      " [9.58862764e-03 9.90411372e-01]\n",
      " [9.38736268e-01 6.12637320e-02]\n",
      " [4.44110352e-06 9.99995559e-01]\n",
      " [9.40848826e-01 5.91511738e-02]\n",
      " [7.77508073e-05 9.99922249e-01]\n",
      " [9.64484402e-01 3.55155980e-02]\n",
      " [4.89377412e-02 9.51062259e-01]]\n"
     ]
    }
   ],
   "source": [
    "print(proba_clf_logit)"
   ]
  },
  {
   "cell_type": "code",
   "execution_count": 26,
   "metadata": {},
   "outputs": [],
   "source": [
    "thres = 0.5\n",
    "target_predict_logit = np.where(proba_clf_logit[:,1] > thres, 1, 0)# How many actual \"positive\" (malignant) cases do we have in our train/test dataset? \n",
    "target_actual = y_test\n",
    "\n",
    "#final_df['diagnosis'].value_counts() \n",
    "# What % of each dataset does it make up?\n",
    "\n",
    "train_pos_count = y_train.sum()\n",
    "test_pos_count = y_test.sum()\n",
    "\n"
   ]
  },
  {
   "cell_type": "code",
   "execution_count": 27,
   "metadata": {},
   "outputs": [
    {
     "name": "stdout",
     "output_type": "stream",
     "text": [
      "% positive in logistic predictions (count/total): 36.84% (42/114)\n"
     ]
    }
   ],
   "source": [
    "# How many \"positive\" (e.g., >50k) cases do we predict with the logistic regression?\n",
    "\n",
    "logit_pos_count = target_predict_logit.sum()\n",
    "print('% positive in logistic predictions (count/total): {:.2f}% ({}/{})'\n",
    "      .format(logit_pos_count * 100.0 / len(y_test), logit_pos_count, len(y_test)))"
   ]
  },
  {
   "cell_type": "code",
   "execution_count": 28,
   "metadata": {},
   "outputs": [
    {
     "name": "stdout",
     "output_type": "stream",
     "text": [
      "Confusion matrix, without normalization\n",
      "[[70  1]\n",
      " [ 2 41]]\n",
      "Normalized confusion matrix\n",
      "[[98.5915493   1.4084507 ]\n",
      " [ 4.65116279 95.34883721]]\n"
     ]
    },
    {
     "data": {
      "text/plain": [
       "<Figure size 432x288 with 0 Axes>"
      ]
     },
     "metadata": {},
     "output_type": "display_data"
    },
    {
     "data": {
      "image/png": "[encoded data removed]",
      "text/plain": [
       "<Figure size 360x288 with 2 Axes>"
      ]
     },
     "metadata": {
      "needs_background": "light"
     },
     "output_type": "display_data"
    },
    {
     "data": {
      "text/plain": [
       "<Figure size 432x288 with 0 Axes>"
      ]
     },
     "metadata": {},
     "output_type": "display_data"
    },
    {
     "data": {
      "image/png": "[encoded data removed]",
      "text/plain": [
       "<Figure size 360x288 with 2 Axes>"
      ]
     },
     "metadata": {
      "needs_background": "light"
     },
     "output_type": "display_data"
    },
    {
     "data": {
      "text/plain": [
       "<Figure size 432x288 with 0 Axes>"
      ]
     },
     "metadata": {},
     "output_type": "display_data"
    }
   ],
   "source": [
    "class_names = ['benign', 'malignant']\n",
    "fontsize=24\n",
    "figsize=(5,4)\n",
    "\n",
    "# Plot the confusion matrix of the logistic regression\n",
    "logit_cfn = confusion_matrix(target_actual, target_predict_logit)\n",
    "log_tn, log_fn, log_fp, log_tp = confusion_matrix(target_actual, target_predict_logit).ravel()\n",
    "\n",
    "\n",
    "# Plot non-normalized confusion matrix\n",
    "plt.figure()\n",
    "plot_confusion_matrix(logit_cfn, classes=class_names, \n",
    "                      normalize=False, figsize=figsize, fontsize=fontsize)\n",
    "\n",
    "# Plot normalized confusion matrix\n",
    "plt.figure()\n",
    "plot_confusion_matrix(logit_cfn, classes=class_names, \n",
    "                      normalize=True, figsize=figsize, fontsize=fontsize)\n",
    "\n",
    "plt.show()\n",
    "plt.tight_layout()"
   ]
  },
  {
   "cell_type": "code",
   "execution_count": 29,
   "metadata": {},
   "outputs": [
    {
     "name": "stdout",
     "output_type": "stream",
     "text": [
      "Logistic regression accuracy: 97.40%\n",
      "Logistic regression precision: 95.00%\n"
     ]
    }
   ],
   "source": [
    "log_acc = round((log_tp + log_tn) / X_test.shape[0], 3) * 100\n",
    "print('Logistic regression accuracy: {:.2f}%'.format(log_acc))\n",
    "\n",
    "log_precision = round((log_tp / (log_tp + log_fp)), 2) * 100\n",
    "print('Logistic regression precision: {:.2f}%'.format(log_precision))"
   ]
  },
  {
   "cell_type": "code",
   "execution_count": 30,
   "metadata": {},
   "outputs": [],
   "source": [
    "## Tune Logistic Regression\n",
    "random_state = 33\n",
    "cv=5\n",
    "\n",
    "\n",
    "## Tune Logistic Regression\n",
    "clf_log = LogisticRegression(random_state=random_state)\n",
    "\n",
    "log_params={\"C\":np.logspace(-3,3,7), \"penalty\":[\"l1\",\"l2\"]}# l1 lasso l2 ridge\n",
    "log_grid = GridSearchCV(clf_log, log_params, cv=cv);\n",
    "log_grid.fit(X_train, y_train);\n",
    "\n",
    "\n",
    "\n"
   ]
  },
  {
   "cell_type": "code",
   "execution_count": 31,
   "metadata": {},
   "outputs": [],
   "source": [
    "log_pred = log_grid.predict_proba(X_test) [:, 1]\n",
    "fpr_log, tpr_log, _ = roc_curve(target_actual, log_pred)\n"
   ]
  },
  {
   "cell_type": "code",
   "execution_count": 32,
   "metadata": {},
   "outputs": [
    {
     "data": {
      "image/png": "[encoded data removed]",
      "text/plain": [
       "<Figure size 864x864 with 1 Axes>"
      ]
     },
     "metadata": {
      "needs_background": "light"
     },
     "output_type": "display_data"
    }
   ],
   "source": [
    "# Plot the ROC curve\n",
    "fig = plt.figure(figsize=(12,12))\n",
    "plt.plot([0, 1], [0, 1], '--')\n",
    "#plt.plot(fpr_rf, tpr_rf, label='RF')\n",
    "plt.plot(fpr_log, tpr_log, label='Logistic regression')\n",
    "#plt.plot(fpr_tree, tpr_tree, label='Decision Tree')\n",
    "plt.xlabel('False positive rate')\n",
    "plt.ylabel('True positive rate')\n",
    "plt.title('ROC')\n",
    "plt.legend(loc='best')\n",
    "plt.show()"
   ]
  },
  {
   "cell_type": "code",
   "execution_count": 33,
   "metadata": {},
   "outputs": [],
   "source": [
    "# Decision tree \n",
    "clf_dt = DecisionTreeClassifier(criterion='gini', max_depth=10, min_samples_split=20, \n",
    "                             min_samples_leaf=10, max_features=None)\n",
    "clf_dt.fit(X_train, y_train)\n",
    "pred_clf_dt = clf_dt.predict(X_test)\n",
    "proba_clf_dt = clf_dt.predict_proba(X_test)"
   ]
  },
  {
   "cell_type": "code",
   "execution_count": 34,
   "metadata": {},
   "outputs": [
    {
     "name": "stdout",
     "output_type": "stream",
     "text": [
      "[[0.         1.        ]\n",
      " [1.         0.        ]\n",
      " [1.         0.        ]\n",
      " [0.85714286 0.14285714]\n",
      " [0.9        0.1       ]\n",
      " [1.         0.        ]\n",
      " [1.         0.        ]\n",
      " [1.         0.        ]\n",
      " [1.         0.        ]\n",
      " [0.4        0.6       ]\n",
      " [1.         0.        ]\n",
      " [0.         1.        ]\n",
      " [1.         0.        ]\n",
      " [0.         1.        ]\n",
      " [1.         0.        ]\n",
      " [0.         1.        ]\n",
      " [1.         0.        ]\n",
      " [1.         0.        ]\n",
      " [1.         0.        ]\n",
      " [0.85714286 0.14285714]\n",
      " [0.         1.        ]\n",
      " [1.         0.        ]\n",
      " [1.         0.        ]\n",
      " [1.         0.        ]\n",
      " [0.         1.        ]\n",
      " [0.         1.        ]\n",
      " [0.         1.        ]\n",
      " [1.         0.        ]\n",
      " [0.66666667 0.33333333]\n",
      " [1.         0.        ]\n",
      " [0.5        0.5       ]\n",
      " [1.         0.        ]\n",
      " [1.         0.        ]\n",
      " [0.66666667 0.33333333]\n",
      " [1.         0.        ]\n",
      " [0.         1.        ]\n",
      " [0.         1.        ]\n",
      " [1.         0.        ]\n",
      " [1.         0.        ]\n",
      " [1.         0.        ]\n",
      " [0.7        0.3       ]\n",
      " [1.         0.        ]\n",
      " [1.         0.        ]\n",
      " [1.         0.        ]\n",
      " [1.         0.        ]\n",
      " [0.85714286 0.14285714]\n",
      " [0.9        0.1       ]\n",
      " [0.85714286 0.14285714]\n",
      " [1.         0.        ]\n",
      " [1.         0.        ]\n",
      " [1.         0.        ]\n",
      " [0.         1.        ]\n",
      " [1.         0.        ]\n",
      " [0.4        0.6       ]\n",
      " [0.5        0.5       ]\n",
      " [1.         0.        ]\n",
      " [1.         0.        ]\n",
      " [0.         1.        ]\n",
      " [1.         0.        ]\n",
      " [1.         0.        ]\n",
      " [0.         1.        ]\n",
      " [0.         1.        ]\n",
      " [1.         0.        ]\n",
      " [0.3        0.7       ]\n",
      " [1.         0.        ]\n",
      " [1.         0.        ]\n",
      " [1.         0.        ]\n",
      " [1.         0.        ]\n",
      " [1.         0.        ]\n",
      " [0.         1.        ]\n",
      " [1.         0.        ]\n",
      " [1.         0.        ]\n",
      " [1.         0.        ]\n",
      " [0.         1.        ]\n",
      " [0.         1.        ]\n",
      " [0.         1.        ]\n",
      " [0.3        0.7       ]\n",
      " [0.         1.        ]\n",
      " [0.         1.        ]\n",
      " [1.         0.        ]\n",
      " [0.         1.        ]\n",
      " [0.85714286 0.14285714]\n",
      " [0.7        0.3       ]\n",
      " [0.         1.        ]\n",
      " [1.         0.        ]\n",
      " [0.         1.        ]\n",
      " [0.4        0.6       ]\n",
      " [0.         1.        ]\n",
      " [0.66666667 0.33333333]\n",
      " [1.         0.        ]\n",
      " [1.         0.        ]\n",
      " [0.         1.        ]\n",
      " [0.         1.        ]\n",
      " [1.         0.        ]\n",
      " [0.         1.        ]\n",
      " [1.         0.        ]\n",
      " [1.         0.        ]\n",
      " [0.         1.        ]\n",
      " [0.         1.        ]\n",
      " [1.         0.        ]\n",
      " [0.         1.        ]\n",
      " [1.         0.        ]\n",
      " [1.         0.        ]\n",
      " [1.         0.        ]\n",
      " [1.         0.        ]\n",
      " [0.         1.        ]\n",
      " [1.         0.        ]\n",
      " [0.         1.        ]\n",
      " [1.         0.        ]\n",
      " [0.         1.        ]\n",
      " [1.         0.        ]\n",
      " [0.         1.        ]\n",
      " [0.7        0.3       ]\n",
      " [0.         1.        ]]\n"
     ]
    }
   ],
   "source": [
    "print(proba_clf_dt)"
   ]
  },
  {
   "cell_type": "code",
   "execution_count": 35,
   "metadata": {},
   "outputs": [],
   "source": [
    "target_predict_tree = np.where(proba_clf_dt[:,1] > thres, 1, 0)"
   ]
  },
  {
   "cell_type": "code",
   "execution_count": 36,
   "metadata": {},
   "outputs": [
    {
     "name": "stdout",
     "output_type": "stream",
     "text": [
      "Confusion matrix, without normalization\n",
      "[[68  3]\n",
      " [ 6 37]]\n",
      "Normalized confusion matrix\n",
      "[[95.77464789  4.22535211]\n",
      " [13.95348837 86.04651163]]\n"
     ]
    },
    {
     "data": {
      "text/plain": [
       "<Figure size 432x288 with 0 Axes>"
      ]
     },
     "metadata": {},
     "output_type": "display_data"
    },
    {
     "data": {
      "image/png": "[encoded data removed]",
      "text/plain": [
       "<Figure size 360x288 with 2 Axes>"
      ]
     },
     "metadata": {
      "needs_background": "light"
     },
     "output_type": "display_data"
    },
    {
     "data": {
      "text/plain": [
       "<Figure size 432x288 with 0 Axes>"
      ]
     },
     "metadata": {},
     "output_type": "display_data"
    },
    {
     "data": {
      "image/png": "[encoded data removed]",
      "text/plain": [
       "<Figure size 360x288 with 2 Axes>"
      ]
     },
     "metadata": {
      "needs_background": "light"
     },
     "output_type": "display_data"
    }
   ],
   "source": [
    "# Plot the confusion matrix for the decision tree\n",
    "tree_cfn = confusion_matrix(target_actual, target_predict_tree)\n",
    "tree_tn, tree_fn, tree_fp, tree_tp = confusion_matrix(target_actual, target_predict_tree).ravel()\n",
    "\n",
    "# Plot non-normalized confusion matrix\n",
    "plt.figure()\n",
    "plot_confusion_matrix(tree_cfn, classes=class_names, \n",
    "                      normalize=False, figsize=figsize, fontsize=fontsize)\n",
    "\n",
    "# Plot normalized confusion matrix\n",
    "plt.figure()\n",
    "plot_confusion_matrix(tree_cfn, classes=class_names, \n",
    "                      normalize=True, figsize=figsize, fontsize=fontsize)"
   ]
  },
  {
   "cell_type": "code",
   "execution_count": 37,
   "metadata": {},
   "outputs": [
    {
     "name": "stdout",
     "output_type": "stream",
     "text": [
      "Decision tree accuracy: 92.10%\n"
     ]
    }
   ],
   "source": [
    "tr_acc = round((tree_tp + tree_tn) / X_test.shape[0], 3) * 100\n",
    "print('Decision tree accuracy: {:.2f}%'.format(tr_acc))"
   ]
  },
  {
   "cell_type": "code",
   "execution_count": 38,
   "metadata": {},
   "outputs": [
    {
     "name": "stdout",
     "output_type": "stream",
     "text": [
      "Decision tree precision: 86.00%\n"
     ]
    }
   ],
   "source": [
    "tr_precision = round((tree_tp / (tree_tp + tree_fp)), 2) * 100\n",
    "print('Decision tree precision: {:.2f}%'.format(tr_precision))"
   ]
  },
  {
   "cell_type": "code",
   "execution_count": 39,
   "metadata": {},
   "outputs": [
    {
     "data": {
      "text/plain": [
       "{'max_depth': 3, 'min_samples_leaf': 5}"
      ]
     },
     "execution_count": 39,
     "metadata": {},
     "output_type": "execute_result"
    }
   ],
   "source": [
    "## Tune Decision Tree\n",
    "num_leaves = [1, 5, 10, 20, 50, 100]\n",
    "depths = np.arange(1, 21)\n",
    "tree_params = {\"max_depth\": depths, \"min_samples_leaf\": num_leaves}\n",
    "\n",
    "clf_tree = DecisionTreeClassifier(random_state=random_state)\n",
    "tree_grid = GridSearchCV(clf_tree, tree_params, cv=cv);\n",
    "tree_grid.fit(X_train, y_train);\n",
    "tree_grid.best_params_"
   ]
  },
  {
   "cell_type": "code",
   "execution_count": 40,
   "metadata": {},
   "outputs": [],
   "source": [
    "# Random forest \n",
    "clf_rf = RandomForestClassifier(random_state = 33, n_estimators=50, max_depth=5, \n",
    "                                min_samples_leaf=30, max_features=4)\n",
    "clf_rf.fit(X_train, y_train)\n",
    "pred_clf_rf = clf_rf.predict(X_test)\n",
    "proba_clf_rf = clf_rf.predict_proba(X_test)"
   ]
  },
  {
   "cell_type": "code",
   "execution_count": 41,
   "metadata": {},
   "outputs": [
    {
     "name": "stdout",
     "output_type": "stream",
     "text": [
      "[[0.19353155 0.80646845]\n",
      " [0.96173764 0.03826236]\n",
      " [0.92291375 0.07708625]\n",
      " [0.88920001 0.11079999]\n",
      " [0.83184133 0.16815867]\n",
      " [0.9158274  0.0841726 ]\n",
      " [0.99358267 0.00641733]\n",
      " [0.9914738  0.0085262 ]\n",
      " [0.97715504 0.02284496]\n",
      " [0.6666492  0.3333508 ]\n",
      " [0.87014567 0.12985433]\n",
      " [0.08374742 0.91625258]\n",
      " [0.96454453 0.03545547]\n",
      " [0.29412084 0.70587916]\n",
      " [0.90881296 0.09118704]\n",
      " [0.30802703 0.69197297]\n",
      " [0.90411894 0.09588106]\n",
      " [0.78550029 0.21449971]\n",
      " [0.88968698 0.11031302]\n",
      " [0.73342529 0.26657471]\n",
      " [0.24848774 0.75151226]\n",
      " [0.99513179 0.00486821]\n",
      " [0.97476406 0.02523594]\n",
      " [0.97963266 0.02036734]\n",
      " [0.07815557 0.92184443]\n",
      " [0.09319516 0.90680484]\n",
      " [0.15684532 0.84315468]\n",
      " [0.79919441 0.20080559]\n",
      " [0.6543299  0.3456701 ]\n",
      " [0.93455901 0.06544099]\n",
      " [0.88314686 0.11685314]\n",
      " [0.98656764 0.01343236]\n",
      " [0.71321725 0.28678275]\n",
      " [0.78905862 0.21094138]\n",
      " [0.99433179 0.00566821]\n",
      " [0.24709525 0.75290475]\n",
      " [0.27563978 0.72436022]\n",
      " [0.96947147 0.03052853]\n",
      " [0.69579084 0.30420916]\n",
      " [0.92227803 0.07772197]\n",
      " [0.21912132 0.78087868]\n",
      " [0.96341273 0.03658727]\n",
      " [0.98637984 0.01362016]\n",
      " [0.97168625 0.02831375]\n",
      " [0.94503232 0.05496768]\n",
      " [0.86498463 0.13501537]\n",
      " [0.82255128 0.17744872]\n",
      " [0.80811925 0.19188075]\n",
      " [0.9461918  0.0538082 ]\n",
      " [0.99046454 0.00953546]\n",
      " [0.9892374  0.0107626 ]\n",
      " [0.13697755 0.86302245]\n",
      " [0.96607051 0.03392949]\n",
      " [0.50257638 0.49742362]\n",
      " [0.90375892 0.09624108]\n",
      " [0.74168018 0.25831982]\n",
      " [0.96752814 0.03247186]\n",
      " [0.05313343 0.94686657]\n",
      " [0.98854921 0.01145079]\n",
      " [0.73672073 0.26327927]\n",
      " [0.09848756 0.90151244]\n",
      " [0.26600949 0.73399051]\n",
      " [0.97414377 0.02585623]\n",
      " [0.10781571 0.89218429]\n",
      " [0.90972169 0.09027831]\n",
      " [0.713665   0.286335  ]\n",
      " [0.98887117 0.01112883]\n",
      " [0.96543245 0.03456755]\n",
      " [0.71044641 0.28955359]\n",
      " [0.12926496 0.87073504]\n",
      " [0.93126366 0.06873634]\n",
      " [0.98624015 0.01375985]\n",
      " [0.94536518 0.05463482]\n",
      " [0.0094703  0.9905297 ]\n",
      " [0.20174038 0.79825962]\n",
      " [0.08441297 0.91558703]\n",
      " [0.05021467 0.94978533]\n",
      " [0.1993808  0.8006192 ]\n",
      " [0.03261975 0.96738025]\n",
      " [0.86100635 0.13899365]\n",
      " [0.20834077 0.79165923]\n",
      " [0.88363576 0.11636424]\n",
      " [0.31291995 0.68708005]\n",
      " [0.17653613 0.82346387]\n",
      " [0.98337488 0.01662512]\n",
      " [0.19983629 0.80016371]\n",
      " [0.62794912 0.37205088]\n",
      " [0.10077991 0.89922009]\n",
      " [0.77554532 0.22445468]\n",
      " [0.72892243 0.27107757]\n",
      " [0.78419462 0.21580538]\n",
      " [0.15233176 0.84766824]\n",
      " [0.2533692  0.7466308 ]\n",
      " [0.98197806 0.01802194]\n",
      " [0.10414139 0.89585861]\n",
      " [0.70736029 0.29263971]\n",
      " [0.96448903 0.03551097]\n",
      " [0.11953445 0.88046555]\n",
      " [0.67043134 0.32956866]\n",
      " [0.98963246 0.01036754]\n",
      " [0.17500063 0.82499937]\n",
      " [0.98792818 0.01207182]\n",
      " [0.75070197 0.24929803]\n",
      " [0.9877664  0.0122336 ]\n",
      " [0.9705482  0.0294518 ]\n",
      " [0.12826268 0.87173732]\n",
      " [0.9927924  0.0072076 ]\n",
      " [0.16087032 0.83912968]\n",
      " [0.89224834 0.10775166]\n",
      " [0.10678372 0.89321628]\n",
      " [0.91600663 0.08399337]\n",
      " [0.08516177 0.91483823]\n",
      " [0.38397721 0.61602279]\n",
      " [0.19866904 0.80133096]]\n"
     ]
    }
   ],
   "source": [
    "# Check probabilities - note this gives the probabilities associated with labels 0 and 1, respectively\n",
    "print(proba_clf_rf)"
   ]
  },
  {
   "cell_type": "code",
   "execution_count": 42,
   "metadata": {},
   "outputs": [],
   "source": [
    "target_predict_rf = np.where(proba_clf_rf[:,1] > thres, 1, 0)"
   ]
  },
  {
   "cell_type": "code",
   "execution_count": 43,
   "metadata": {},
   "outputs": [
    {
     "name": "stdout",
     "output_type": "stream",
     "text": [
      "Confusion matrix, without normalization\n",
      "[[69  2]\n",
      " [ 6 37]]\n",
      "Normalized confusion matrix\n",
      "[[97.18309859  2.81690141]\n",
      " [13.95348837 86.04651163]]\n"
     ]
    },
    {
     "data": {
      "text/plain": [
       "<Figure size 432x288 with 0 Axes>"
      ]
     },
     "metadata": {},
     "output_type": "display_data"
    },
    {
     "data": {
      "image/png": "[encoded data removed]",
      "text/plain": [
       "<Figure size 360x288 with 2 Axes>"
      ]
     },
     "metadata": {
      "needs_background": "light"
     },
     "output_type": "display_data"
    },
    {
     "data": {
      "text/plain": [
       "<Figure size 432x288 with 0 Axes>"
      ]
     },
     "metadata": {},
     "output_type": "display_data"
    },
    {
     "data": {
      "image/png": "[encoded data removed]",
      "text/plain": [
       "<Figure size 360x288 with 2 Axes>"
      ]
     },
     "metadata": {
      "needs_background": "light"
     },
     "output_type": "display_data"
    }
   ],
   "source": [
    "# Plot the confusion matrix for the random forest\n",
    "rf_cfn = confusion_matrix(target_actual, target_predict_rf)\n",
    "rf_tn, rf_fn, rf_fp, rf_tp = confusion_matrix(target_actual, target_predict_rf).ravel()\n",
    "\n",
    "# Plot non-normalized confusion matrix\n",
    "plt.figure()\n",
    "plot_confusion_matrix(rf_cfn, classes=class_names, \n",
    "                      normalize=False, figsize=figsize, fontsize=fontsize)\n",
    "\n",
    "# Plot normalized confusion matrix\n",
    "plt.figure()\n",
    "plot_confusion_matrix(rf_cfn, classes=class_names, \n",
    "                      normalize=True, figsize=figsize, fontsize=fontsize)"
   ]
  },
  {
   "cell_type": "code",
   "execution_count": 44,
   "metadata": {},
   "outputs": [
    {
     "name": "stdout",
     "output_type": "stream",
     "text": [
      "Random forest accuracy: 93.00%\n"
     ]
    }
   ],
   "source": [
    "rf_acc = round((rf_tp + rf_tn) / X_test.shape[0], 3) * 100\n",
    "print('Random forest accuracy: {:.2f}%'.format(rf_acc))"
   ]
  },
  {
   "cell_type": "code",
   "execution_count": 45,
   "metadata": {},
   "outputs": [
    {
     "name": "stdout",
     "output_type": "stream",
     "text": [
      "Random forest precision: 86.00%\n"
     ]
    }
   ],
   "source": [
    "rf_precision = round((rf_tp / (rf_tp + rf_fp)), 2) * 100\n",
    "print('Random forest precision: {:.2f}%'.format(rf_precision))"
   ]
  },
  {
   "cell_type": "code",
   "execution_count": 46,
   "metadata": {},
   "outputs": [
    {
     "name": "stdout",
     "output_type": "stream",
     "text": [
      "{'max_depth': 10, 'max_features': 4, 'n_estimators': 5}\n"
     ]
    }
   ],
   "source": [
    "## Tune Random Forest\n",
    "\n",
    "clf_rf = RandomForestClassifier(random_state=random_state)\n",
    "\n",
    "\n",
    "'''\n",
    "Define the parameter grid for the. Random Forest:\n",
    "- max_features: maximum number of features to split the tree nodes on\n",
    "- n_estimators: number of trees to build\n",
    "- max_depth: maximum number of layers in each tree\n",
    "\n",
    "''' \n",
    "scoring = {'Accuracy' : make_scorer(accuracy_score), 'Precision': make_scorer(precision_score)}\n",
    "\n",
    "params = {\n",
    "    'max_features': [4,5],\n",
    "    'n_estimators': [5,10],\n",
    "    'max_depth': [1,10]\n",
    "}\n",
    "\n",
    "rf_grid = GridSearchCV(estimator = clf_rf, param_grid = params, scoring= scoring, n_jobs=3, \n",
    "                        iid=True, refit= 'Accuracy', cv=cv, verbose=0, pre_dispatch='2*n_jobs', \n",
    "                        error_score='raise', return_train_score='warn')\n",
    "\n",
    "\n",
    "rf_grid.fit(X_train, y_train)\n",
    "print(rf_grid.best_params_)\n"
   ]
  },
  {
   "cell_type": "code",
   "execution_count": 47,
   "metadata": {},
   "outputs": [
    {
     "data": {
      "image/png": "[encoded data removed]",
      "text/plain": [
       "<Figure size 936x936 with 1 Axes>"
      ]
     },
     "metadata": {
      "needs_background": "light"
     },
     "output_type": "display_data"
    }
   ],
   "source": [
    "plot_performance(rf_grid.cv_results_)"
   ]
  },
  {
   "cell_type": "code",
   "execution_count": 48,
   "metadata": {},
   "outputs": [],
   "source": [
    "# SVM \n",
    "clf_svm = SVC(kernel = 'linear', random_state = 33, probability = True)\n",
    "clf_svm.fit(X_train, y_train)\n",
    "pred_clf_svm = clf_svm.predict(X_test)\n",
    "proba_clf_svm = clf_svm.predict_proba(X_test)\n",
    "target_predict_svm = np.where(proba_clf_svm[:,1] > thres, 1, 0)"
   ]
  },
  {
   "cell_type": "code",
   "execution_count": 49,
   "metadata": {},
   "outputs": [
    {
     "name": "stdout",
     "output_type": "stream",
     "text": [
      "Confusion matrix, without normalization\n",
      "[[70  1]\n",
      " [ 2 41]]\n",
      "Normalized confusion matrix\n",
      "[[98.5915493   1.4084507 ]\n",
      " [ 4.65116279 95.34883721]]\n"
     ]
    },
    {
     "data": {
      "text/plain": [
       "<Figure size 432x288 with 0 Axes>"
      ]
     },
     "metadata": {},
     "output_type": "display_data"
    },
    {
     "data": {
      "image/png": "[encoded data removed]",
      "text/plain": [
       "<Figure size 360x288 with 2 Axes>"
      ]
     },
     "metadata": {
      "needs_background": "light"
     },
     "output_type": "display_data"
    },
    {
     "data": {
      "text/plain": [
       "<Figure size 432x288 with 0 Axes>"
      ]
     },
     "metadata": {},
     "output_type": "display_data"
    },
    {
     "data": {
      "image/png": "[encoded data removed]",
      "text/plain": [
       "<Figure size 360x288 with 2 Axes>"
      ]
     },
     "metadata": {
      "needs_background": "light"
     },
     "output_type": "display_data"
    }
   ],
   "source": [
    "# Plot the confusion matrix for SVM\n",
    "svm_cfn = confusion_matrix(target_actual, target_predict_svm)\n",
    "svm_tn, svm_fn, svm_fp, svm_tp = confusion_matrix(target_actual, target_predict_svm).ravel()\n",
    "\n",
    "# Plot non-normalized confusion matrix\n",
    "plt.figure()\n",
    "plot_confusion_matrix(svm_cfn, classes=class_names, \n",
    "                      normalize=False, figsize=figsize, fontsize=fontsize)\n",
    "\n",
    "# Plot normalized confusion matrix\n",
    "plt.figure()\n",
    "plot_confusion_matrix(svm_cfn, classes=class_names, \n",
    "                      normalize=True, figsize=figsize, fontsize=fontsize)"
   ]
  },
  {
   "cell_type": "code",
   "execution_count": 50,
   "metadata": {},
   "outputs": [
    {
     "name": "stdout",
     "output_type": "stream",
     "text": [
      "SVM accuracy: 97.40%\n"
     ]
    }
   ],
   "source": [
    "# SVM accuracy\n",
    "svm_acc = round((svm_tp + svm_tn) / X_test.shape[0], 3) * 100\n",
    "print('SVM accuracy: {:.2f}%'.format(svm_acc))"
   ]
  },
  {
   "cell_type": "code",
   "execution_count": 51,
   "metadata": {},
   "outputs": [],
   "source": [
    "## Tune SVM\n",
    "\n",
    "clf_svm = SVC(kernel = 'linear', random_state=random_state, probability = True)\n",
    "\n",
    "\n",
    "'''\n",
    "Define the parameter grid for the. Random Forest:\n",
    "- max_features: maximum number of features to split the tree nodes on\n",
    "- n_estimators: number of trees to build\n",
    "- max_depth: maximum number of layers in each tree\n",
    "\n",
    "''' \n",
    "\n",
    "params = {\n",
    "    'C': [0.001, 0.01, 0.1, 1, 10, 100, 1000],\n",
    "    'gamma': [0.001, 0.01, 0.1, 1, 10],\n",
    "    'kernel': [\"linear\", \"rbf\", \"poly\"],\n",
    "}\n",
    "\n",
    "svm_grid = GridSearchCV(estimator = clf_svm, param_grid = params, scoring=None, n_jobs=3, \n",
    "                        iid=True, refit=True, cv=cv, verbose=0, pre_dispatch='2*n_jobs', \n",
    "                        error_score='raise', return_train_score='warn');\n",
    "\n",
    "\n",
    "svm_grid.fit(X_train, y_train);"
   ]
  },
  {
   "cell_type": "markdown",
   "metadata": {},
   "source": [
    "The recall is the ratio tp / (tp + fn) where tp is the number of true positives and fn the number of false negatives. The recall is intuitively the ability of the classifier to find all the positive samples."
   ]
  },
  {
   "cell_type": "code",
   "execution_count": 52,
   "metadata": {},
   "outputs": [
    {
     "data": {
      "image/png": "[encoded data removed]",
      "text/plain": [
       "<Figure size 864x864 with 1 Axes>"
      ]
     },
     "metadata": {
      "needs_background": "light"
     },
     "output_type": "display_data"
    }
   ],
   "source": [
    "# Let's make the predictions and evaluate our model\n",
    "rf_pred = rf_grid.predict_proba(X_test)[:, 1]\n",
    "log_pred = log_grid.predict_proba(X_test)[:, 1]\n",
    "tree_pred = tree_grid.predict_proba(X_test)[:, 1]\n",
    "svm_pred = svm_grid.predict_proba(X_test)[:, 1]\n",
    "\n",
    "\n",
    "# Let's get the false positive rate and the true positive rate, to build our ROC curve\n",
    "fpr_rf, tpr_rf, _ = roc_curve(target_actual, rf_pred)\n",
    "fpr_log, tpr_log, _ = roc_curve(target_actual, log_pred)\n",
    "fpr_tree, tpr_tree, _ = roc_curve(target_actual, tree_pred)\n",
    "fpr_svm, tpr_svm, _ = roc_curve(target_actual, svm_pred)\n",
    "\n",
    "\n",
    "# Plot the ROC curve\n",
    "fig = plt.figure(figsize=(12,12))\n",
    "plt.plot([0, 1], [0, 1], 'k--')\n",
    "plt.plot(fpr_rf, tpr_rf, label='RF')\n",
    "plt.plot(fpr_log, tpr_log, label='Logistic regression')\n",
    "plt.plot(fpr_tree, tpr_tree, label='Decision Tree')\n",
    "plt.plot(fpr_svm, tpr_svm, label='SVM')\n",
    "\n",
    "plt.xlabel('False positive rate')\n",
    "plt.ylabel('True positive rate')\n",
    "plt.title('ROC')\n",
    "plt.legend(loc='best')\n",
    "plt.show()"
   ]
  },
  {
   "cell_type": "code",
   "execution_count": 53,
   "metadata": {},
   "outputs": [
    {
     "name": "stdout",
     "output_type": "stream",
     "text": [
      "------ AUC values for each model ------\n",
      "\n",
      "Logistic regression: 0.9944\n",
      "Decision Tree: 0.9651\n",
      "Random Forest: 0.9666\n",
      "SVM: 0.9944\n"
     ]
    }
   ],
   "source": [
    "#  Let's have a look at each model's AUC - What do these indicate?\n",
    "\n",
    "log_auc = auc(fpr_log, tpr_log)\n",
    "tree_auc = auc(fpr_tree, tpr_tree)\n",
    "rf_auc = auc(fpr_rf, tpr_rf)\n",
    "svm_auc = auc(fpr_svm, tpr_svm)\n",
    "\n",
    "print(\"------ AUC values for each model ------\")\n",
    "print()\n",
    "print(\"Logistic regression: %.4f\" %log_auc)\n",
    "print(\"Decision Tree: %.4f\" %tree_auc)\n",
    "print(\"Random Forest: %.4f\" %rf_auc)\n",
    "print(\"SVM: %.4f\" %svm_auc)"
   ]
  },
  {
   "cell_type": "code",
   "execution_count": 105,
   "metadata": {},
   "outputs": [
    {
     "name": "stdout",
     "output_type": "stream",
     "text": [
      "------ Precision, recall and F-score for each model ------\n",
      "\n",
      "---------------------Precision-Recall-F-score\n",
      "\n",
      "Logistic regression:  \n",
      "               precision    recall  f1-score   support\n",
      "\n",
      "           0       0.96      0.98      0.97       286\n",
      "           1       0.96      0.93      0.95       169\n",
      "\n",
      "    accuracy                           0.96       455\n",
      "   macro avg       0.96      0.96      0.96       455\n",
      "weighted avg       0.96      0.96      0.96       455\n",
      "\n",
      "Decision Tree:  \n",
      "               precision    recall  f1-score   support\n",
      "\n",
      "           0       0.95      0.97      0.96       286\n",
      "           1       0.94      0.91      0.92       169\n",
      "\n",
      "    accuracy                           0.95       455\n",
      "   macro avg       0.94      0.94      0.94       455\n",
      "weighted avg       0.94      0.95      0.94       455\n",
      "\n",
      "Random Forest:  \n",
      "               precision    recall  f1-score   support\n",
      "\n",
      "           0       1.00      1.00      1.00       286\n",
      "           1       1.00      1.00      1.00       169\n",
      "\n",
      "    accuracy                           1.00       455\n",
      "   macro avg       1.00      1.00      1.00       455\n",
      "weighted avg       1.00      1.00      1.00       455\n",
      "\n",
      "SVM:     \n",
      "               precision    recall  f1-score   support\n",
      "\n",
      "           0       0.97      0.99      0.98       286\n",
      "           1       0.98      0.94      0.96       169\n",
      "\n",
      "    accuracy                           0.97       455\n",
      "   macro avg       0.97      0.96      0.97       455\n",
      "weighted avg       0.97      0.97      0.97       455\n",
      "\n"
     ]
    }
   ],
   "source": [
    "class_log = classification_report(y_train, log_grid.predict(X_train))\n",
    "tree_log = classification_report(y_train, tree_grid.predict(X_train))\n",
    "rf_log = classification_report(y_train, rf_grid.predict(X_train))\n",
    "svm_log = classification_report(y_train, svm_grid.predict(X_train))\n",
    "\n",
    "\n",
    "print(\"------ Precision, recall and F-score for each model ------\")\n",
    "print()\n",
    "print(\"---------------------Precision-Recall-F-score\")\n",
    "print()\n",
    "print(\"Logistic regression: \", \"\\n\",class_log)\n",
    "print(\"Decision Tree: \",\"\\n\", tree_log)\n",
    "print(\"Random Forest: \",\"\\n\", rf_log)\n",
    "print(\"SVM:    \", \"\\n\",svm_log)"
   ]
  },
  {
   "cell_type": "code",
   "execution_count": 86,
   "metadata": {},
   "outputs": [
    {
     "name": "stdout",
     "output_type": "stream",
     "text": [
      "(array([0.96219931, 0.96341463]), array([0.97902098, 0.93491124]), array([0.97053726, 0.94894895]), array([286, 169], dtype=int64))\n"
     ]
    }
   ],
   "source": [
    "print(log_metrics_train)"
   ]
  },
  {
   "cell_type": "code",
   "execution_count": 54,
   "metadata": {},
   "outputs": [
    {
     "name": "stdout",
     "output_type": "stream",
     "text": [
      "------ Precision, recall and F-score for each model ------\n",
      "\n",
      "---------------------Precision-Recall-F-score\n",
      "\n",
      "Logistic regression: 0.973719   0.973684   0.973621\n",
      "Decision Tree:       0.903367   0.903509   0.902763\n",
      "Random Forest:       0.956905   0.956140   0.955801\n",
      "SVM:                 0.956905   0.956140   0.955801\n"
     ]
    }
   ],
   "source": [
    "#Final model metrics\n",
    "log_metrics = precision_recall_fscore_support(target_actual, log_grid.predict(X_test), average = \"weighted\")\n",
    "tree_metrics = precision_recall_fscore_support(target_actual, tree_grid.predict(X_test), average = \"weighted\")\n",
    "rf_metrics = precision_recall_fscore_support(target_actual, rf_grid.predict(X_test), average = \"weighted\")\n",
    "svm_metrics = precision_recall_fscore_support(target_actual, svm_grid.predict(X_test), average = \"weighted\")\n",
    "\n",
    "print(\"------ Precision, recall and F-score for each model ------\")\n",
    "print()\n",
    "print(\"---------------------Precision-Recall-F-score\")\n",
    "print()\n",
    "print(\"Logistic regression: %.6f\" %log_metrics[0], \"  %.6f\" %log_metrics[1], \"  %.6f\" %log_metrics[2])\n",
    "print(\"Decision Tree:       %.6f\" %tree_metrics[0], \"  %.6f\" %tree_metrics[1], \"  %.6f\" %tree_metrics[2])\n",
    "print(\"Random Forest:       %.6f\" %rf_metrics[0], \"  %.6f\" %rf_metrics[1], \"  %.6f\" %rf_metrics[2])\n",
    "print(\"SVM:                 %.6f\" %svm_metrics[0], \"  %.6f\" %svm_metrics[1], \"  %.6f\" %svm_metrics[2])"
   ]
  },
  {
   "cell_type": "code",
   "execution_count": 106,
   "metadata": {},
   "outputs": [
    {
     "name": "stdout",
     "output_type": "stream",
     "text": [
      "------ Precision, recall and F-score for each model ------\n",
      "\n",
      "---------------------Precision-Recall-F-score\n",
      "\n",
      "Logistic regression:  \n",
      "               precision    recall  f1-score   support\n",
      "\n",
      "           0       0.97      0.99      0.98        71\n",
      "           1       0.98      0.95      0.96        43\n",
      "\n",
      "    accuracy                           0.97       114\n",
      "   macro avg       0.97      0.97      0.97       114\n",
      "weighted avg       0.97      0.97      0.97       114\n",
      "\n",
      "Decision Tree:  \n",
      "               precision    recall  f1-score   support\n",
      "\n",
      "           0       0.91      0.94      0.92        71\n",
      "           1       0.90      0.84      0.87        43\n",
      "\n",
      "    accuracy                           0.90       114\n",
      "   macro avg       0.90      0.89      0.90       114\n",
      "weighted avg       0.90      0.90      0.90       114\n",
      "\n",
      "Random Forest:  \n",
      "               precision    recall  f1-score   support\n",
      "\n",
      "           0       0.95      0.99      0.97        71\n",
      "           1       0.97      0.91      0.94        43\n",
      "\n",
      "    accuracy                           0.96       114\n",
      "   macro avg       0.96      0.95      0.95       114\n",
      "weighted avg       0.96      0.96      0.96       114\n",
      "\n",
      "SVM:     \n",
      "               precision    recall  f1-score   support\n",
      "\n",
      "           0       0.95      0.99      0.97        71\n",
      "           1       0.97      0.91      0.94        43\n",
      "\n",
      "    accuracy                           0.96       114\n",
      "   macro avg       0.96      0.95      0.95       114\n",
      "weighted avg       0.96      0.96      0.96       114\n",
      "\n"
     ]
    }
   ],
   "source": [
    "class_log = classification_report(y_test, log_grid.predict(X_test))\n",
    "tree_log = classification_report(y_test, tree_grid.predict(X_test))\n",
    "rf_log = classification_report(y_test, rf_grid.predict(X_test))\n",
    "svm_log = classification_report(y_test, svm_grid.predict(X_test))\n",
    "\n",
    "\n",
    "print(\"------ Precision, recall and F-score for each model ------\")\n",
    "print()\n",
    "print(\"---------------------Precision-Recall-F-score\")\n",
    "print()\n",
    "print(\"Logistic regression: \", \"\\n\",class_log)\n",
    "print(\"Decision Tree: \",\"\\n\", tree_log)\n",
    "print(\"Random Forest: \",\"\\n\", rf_log)\n",
    "print(\"SVM:    \", \"\\n\",svm_log)"
   ]
  }
 ],
 "metadata": {
  "kernelspec": {
   "display_name": "Python 3",
   "language": "python",
   "name": "python3"
  },
  "language_info": {
   "codemirror_mode": {
    "name": "ipython",
    "version": 3
   },
   "file_extension": ".py",
   "mimetype": "text/x-python",
   "name": "python",
   "nbconvert_exporter": "python",
   "pygments_lexer": "ipython3",
   "version": "3.7.4"
  }
 },
 "nbformat": 4,
 "nbformat_minor": 2
}
